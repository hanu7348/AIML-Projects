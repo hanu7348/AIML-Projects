{
 "cells": [
  {
   "cell_type": "code",
   "execution_count": 2,
   "id": "4e59ef62-7bac-4e40-b1d0-1fb6bf608d5f",
   "metadata": {},
   "outputs": [
    {
     "name": "stdout",
     "output_type": "stream",
     "text": [
      "Found 36 images belonging to 3 classes.\n",
      "Found 6 images belonging to 3 classes.\n",
      "['blue', 'green', 'red']\n"
     ]
    }
   ],
   "source": [
    "# Import TensorFlow library\n",
    "import tensorflow as tf\n",
    "\n",
    "# Import Keras from TensorFlow\n",
    "from tensorflow import keras\n",
    "\n",
    "# Import layers module from Keras\n",
    "from tensorflow.keras import layers\n",
    "\n",
    "# Import Dense layer from Keras layers\n",
    "from keras.layers import Dense\n",
    "\n",
    "# Import PyDataset utility from Keras (Note: this import seems unused in the code)\n",
    "from keras.utils import PyDataset\n",
    "\n",
    "# Import ImageDataGenerator for image preprocessing and augmentation\n",
    "from tensorflow.keras.preprocessing.image import ImageDataGenerator\n",
    "\n",
    "# Define image size (224x224 pixels)\n",
    "IMG_SIZE = 224\n",
    "\n",
    "# Define batch size for training\n",
    "BATCH_SIZE = 32\n",
    "\n",
    "# Create an ImageDataGenerator with rescaling and validation split\n",
    "train_datagen = ImageDataGenerator(rescale=1./255, validation_split=0.2)\n",
    "\n",
    "# Create a generator for training data\n",
    "train_generator = train_datagen.flow_from_directory(\n",
    "    r'C:\\Users\\aryah\\Downloads\\RGB\\Train',  # Directory path for training images\n",
    "    target_size=(IMG_SIZE, IMG_SIZE),  # Resize images to IMG_SIZE\n",
    "    batch_size=BATCH_SIZE,  # Use defined batch size\n",
    "    class_mode='categorical',  # Use categorical labels\n",
    "    subset='training'  # Specify this is the training subset\n",
    ")\n",
    "\n",
    "# Create a generator for validation data\n",
    "val_generator = train_datagen.flow_from_directory(\n",
    "    r'C:\\Users\\aryah\\Downloads\\RGB\\Train',  # Directory path for validation images (same as training in this case)\n",
    "    target_size=(IMG_SIZE, IMG_SIZE),  # Resize images to IMG_SIZE\n",
    "    batch_size=BATCH_SIZE,  # Use defined batch size\n",
    "    class_mode='categorical',  # Use categorical labels\n",
    "    subset='validation'  # Specify this is the validation subset\n",
    ")\n",
    "\n",
    "# Get the list of class names from the training generator\n",
    "classes = list(train_generator.class_indices)\n",
    "\n",
    "# Print the list of classes\n",
    "print(classes)"
   ]
  },
  {
   "cell_type": "code",
   "execution_count": 3,
   "id": "1bc80255-603d-4b58-8deb-8997959f3252",
   "metadata": {},
   "outputs": [
    {
     "name": "stderr",
     "output_type": "stream",
     "text": [
      "C:\\Users\\aryah\\anaconda3\\Lib\\site-packages\\keras\\src\\layers\\convolutional\\base_conv.py:107: UserWarning: Do not pass an `input_shape`/`input_dim` argument to a layer. When using Sequential models, prefer using an `Input(shape)` object as the first layer in the model instead.\n",
      "  super().__init__(activity_regularizer=activity_regularizer, **kwargs)\n"
     ]
    }
   ],
   "source": [
    "# Define a Sequential model\n",
    "model = keras.Sequential([\n",
    "    # First Convolutional layer\n",
    "    layers.Conv2D(32, (3,3), activation='relu', input_shape=(IMG_SIZE,IMG_SIZE,3)),\n",
    "    # Max Pooling layer after first Conv2D\n",
    "    layers.MaxPooling2D((2,2)),\n",
    "    \n",
    "    # Second Convolutional layer\n",
    "    layers.Conv2D(64, (3,3), activation='relu'),\n",
    "    # Max Pooling layer after second Conv2D\n",
    "    layers.MaxPooling2D((2,2)),\n",
    "    \n",
    "    # Third Convolutional layer\n",
    "    layers.Conv2D(128, (3,3), activation='relu'),\n",
    "    # Max Pooling layer after third Conv2D\n",
    "    layers.MaxPooling2D((2,2)),\n",
    "    \n",
    "    # Flatten layer to convert 2D feature maps to 1D feature vector\n",
    "    layers.Flatten(),\n",
    "    \n",
    "    # First Dense (fully connected) layer\n",
    "    layers.Dense(128, activation='relu'),\n",
    "    \n",
    "    # Output Dense layer with 3 units (assuming 3 classes) and softmax activation\n",
    "    layers.Dense(3, activation='softmax')\n",
    "])  "
   ]
  },
  {
   "cell_type": "code",
   "execution_count": 4,
   "id": "47fdfc4e-2a46-4377-bb28-476b4062b168",
   "metadata": {},
   "outputs": [
    {
     "name": "stdout",
     "output_type": "stream",
     "text": [
      "Epoch 1/5\n"
     ]
    },
    {
     "name": "stderr",
     "output_type": "stream",
     "text": [
      "C:\\Users\\aryah\\anaconda3\\Lib\\site-packages\\keras\\src\\trainers\\data_adapters\\py_dataset_adapter.py:121: UserWarning: Your `PyDataset` class should call `super().__init__(**kwargs)` in its constructor. `**kwargs` can include `workers`, `use_multiprocessing`, `max_queue_size`. Do not pass these arguments to `fit()`, as they will be ignored.\n",
      "  self._warn_if_super_not_called()\n"
     ]
    },
    {
     "name": "stdout",
     "output_type": "stream",
     "text": [
      "\u001b[1m2/2\u001b[0m \u001b[32m━━━━━━━━━━━━━━━━━━━━\u001b[0m\u001b[37m\u001b[0m \u001b[1m6s\u001b[0m 2s/step - accuracy: 0.3889 - loss: 3.6806 - val_accuracy: 0.3333 - val_loss: 4.6198\n",
      "Epoch 2/5\n",
      "\u001b[1m2/2\u001b[0m \u001b[32m━━━━━━━━━━━━━━━━━━━━\u001b[0m\u001b[37m\u001b[0m \u001b[1m2s\u001b[0m 1s/step - accuracy: 0.5926 - loss: 2.5463 - val_accuracy: 1.0000 - val_loss: 0.2701\n",
      "Epoch 3/5\n",
      "\u001b[1m2/2\u001b[0m \u001b[32m━━━━━━━━━━━━━━━━━━━━\u001b[0m\u001b[37m\u001b[0m \u001b[1m2s\u001b[0m 320ms/step - accuracy: 0.8264 - loss: 0.3875 - val_accuracy: 1.0000 - val_loss: 0.0182\n",
      "Epoch 4/5\n",
      "\u001b[1m2/2\u001b[0m \u001b[32m━━━━━━━━━━━━━━━━━━━━\u001b[0m\u001b[37m\u001b[0m \u001b[1m2s\u001b[0m 307ms/step - accuracy: 0.8264 - loss: 0.3866 - val_accuracy: 1.0000 - val_loss: 0.0984\n",
      "Epoch 5/5\n",
      "\u001b[1m2/2\u001b[0m \u001b[32m━━━━━━━━━━━━━━━━━━━━\u001b[0m\u001b[37m\u001b[0m \u001b[1m2s\u001b[0m 360ms/step - accuracy: 0.9132 - loss: 0.1359 - val_accuracy: 1.0000 - val_loss: 0.0025\n"
     ]
    },
    {
     "data": {
      "text/plain": [
       "<keras.src.callbacks.history.History at 0x28f47aefbd0>"
      ]
     },
     "execution_count": 4,
     "metadata": {},
     "output_type": "execute_result"
    }
   ],
   "source": [
    "# Compile the model\n",
    "model.compile(\n",
    "    optimizer='adam',  # Use Adam optimizer\n",
    "    loss='categorical_crossentropy',  # Use categorical crossentropy loss for multi-class classification\n",
    "    metrics=['accuracy']  # Track accuracy metric during training\n",
    ")\n",
    "\n",
    "# Train the model\n",
    "model.fit(\n",
    "    train_generator,  # Use the training data generator\n",
    "    validation_data=val_generator,  # Use the validation data generator\n",
    "    epochs=5  # Train for 5 epochs\n",
    ")"
   ]
  },
  {
   "cell_type": "code",
   "execution_count": 5,
   "id": "2d45cd00-39d6-4fd8-bc1a-40bfbeaf5046",
   "metadata": {},
   "outputs": [
    {
     "name": "stderr",
     "output_type": "stream",
     "text": [
      "WARNING:absl:You are saving your model as an HDF5 file via `model.save()` or `keras.saving.save_model(model)`. This file format is considered legacy. We recommend using instead the native Keras format, e.g. `model.save('my_model.keras')` or `keras.saving.save_model(model, 'my_model.keras')`. \n"
     ]
    }
   ],
   "source": [
    "# Save the trained model to a file named \"Model.h5\"\n",
    "model.save(\"Model.h5\")"
   ]
  },
  {
   "cell_type": "code",
   "execution_count": 6,
   "id": "6568c61b-01e2-4c07-a808-9017cbe5f480",
   "metadata": {},
   "outputs": [
    {
     "name": "stderr",
     "output_type": "stream",
     "text": [
      "WARNING:absl:Compiled the loaded model, but the compiled metrics have yet to be built. `model.compile_metrics` will be empty until you train or evaluate the model.\n"
     ]
    },
    {
     "name": "stdout",
     "output_type": "stream",
     "text": [
      "Model Loaded\n"
     ]
    }
   ],
   "source": [
    "# Import the load_model function from Keras\n",
    "from tensorflow.keras.models import load_model\n",
    "\n",
    "# Import the image module from Keras preprocessing\n",
    "from tensorflow.keras.preprocessing import image\n",
    "\n",
    "# Import numpy for array operations\n",
    "import numpy as np\n",
    "\n",
    "# Load the previously saved model from the file 'Model.h5'\n",
    "model = load_model('Model.h5')\n",
    "\n",
    "# Print a message indicating that the model has been loaded successfully\n",
    "print(\"Model Loaded\")"
   ]
  },
  {
   "cell_type": "code",
   "execution_count": 1,
   "id": "45621cb2-f769-4235-9797-c7b133d29bba",
   "metadata": {},
   "outputs": [
    {
     "data": {
      "image/png": "[encoded data removed]",
      "text/plain": [
       "<Figure size 640x480 with 1 Axes>"
      ]
     },
     "metadata": {},
     "output_type": "display_data"
    }
   ],
   "source": [
    "from tensorflow.keras.preprocessing import image\n",
    "import numpy as np\n",
    "import matplotlib.pyplot as plt\n",
    "\n",
    "# Define the path to the test image\n",
    "test_image_path = r\"C:\\Users\\aryah\\Downloads\\RGB\\Train\\green\\green13.jpg\"\n",
    "\n",
    "# Load the image and resize it to 224x224 pixels\n",
    "img = image.load_img(test_image_path, target_size=(224,224))\n",
    "\n",
    "# Convert the image to a numpy array\n",
    "img_array = image.img_to_array(img)\n",
    "\n",
    "# Expand the dimensions of the array to create a batch of size 1\n",
    "img_array = np.expand_dims(img_array, axis=0)\n",
    "\n",
    "# Display the image\n",
    "plt.imshow(img)\n",
    "plt.axis() \n",
    "plt.show()"
   ]
  },
  {
   "cell_type": "code",
   "execution_count": 7,
   "id": "fd8033bc-9520-4525-836b-1bf73a8554ca",
   "metadata": {},
   "outputs": [
    {
     "name": "stdout",
     "output_type": "stream",
     "text": [
      "\u001b[1m1/1\u001b[0m \u001b[32m━━━━━━━━━━━━━━━━━━━━\u001b[0m\u001b[37m\u001b[0m \u001b[1m0s\u001b[0m 441ms/step\n",
      "[[5.009647e-05 9.998969e-01 5.295366e-05]]\n",
      "1\n",
      "green\n"
     ]
    }
   ],
   "source": [
    "# Normalize the pixel values to the range [0, 1]\n",
    "img_array /= 255.\n",
    "\n",
    "# Use the model to make a prediction on the preprocessed image\n",
    "prediction = model.predict(img_array)\n",
    "\n",
    "# Print the raw prediction array\n",
    "print(prediction)\n",
    "\n",
    "# Find the index of the highest probability in the prediction\n",
    "val = np.argmax(prediction)\n",
    "\n",
    "# Print the index of the predicted class\n",
    "print(val)\n",
    "\n",
    "# Print the name of the predicted class\n",
    "print(classes[val])"
   ]
  },
  {
   "cell_type": "code",
   "execution_count": null,
   "id": "98919a3d-19dd-48ed-8e8c-2210bc80c3aa",
   "metadata": {},
   "outputs": [],
   "source": []
  }
 ],
 "metadata": {
  "kernelspec": {
   "display_name": "Python 3 (ipykernel)",
   "language": "python",
   "name": "python3"
  },
  "language_info": {
   "codemirror_mode": {
    "name": "ipython",
    "version": 3
   },
   "file_extension": ".py",
   "mimetype": "text/x-python",
   "name": "python",
   "nbconvert_exporter": "python",
   "pygments_lexer": "ipython3",
   "version": "3.11.7"
  }
 },
 "nbformat": 4,
 "nbformat_minor": 5
}
