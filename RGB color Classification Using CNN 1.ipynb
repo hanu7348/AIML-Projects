{
 "cells": [
  {
   "cell_type": "code",
   "execution_count": 3,
   "id": "4e59ef62-7bac-4e40-b1d0-1fb6bf608d5f",
   "metadata": {},
   "outputs": [],
   "source": [
    "import tensorflow as tf\n",
    "from tensorflow import keras\n",
    "from tensorflow.keras import layers\n",
    "from keras.layers import Dense\n",
    "from keras.utils import PyDataset\n",
    "from tensorflow.keras.preprocessing.image import ImageDataGenerator\n",
    "#define image size and batch size\n",
    "IMG_SIZE=224\n",
    "BATCH_SIZE=32"
   ]
  },
  {
   "cell_type": "code",
   "execution_count": 4,
   "id": "1bc80255-603d-4b58-8deb-8997959f3252",
   "metadata": {},
   "outputs": [
    {
     "name": "stdout",
     "output_type": "stream",
     "text": [
      "Found 36 images belonging to 3 classes.\n",
      "Found 6 images belonging to 3 classes.\n"
     ]
    }
   ],
   "source": [
    "tarin_datagen = ImageDataGenerator(rescale=1./255,validation_split=0.2)\n",
    "train_generator =tarin_datagen.flow_from_directory(\n",
    "    r'C:\\Users\\aryah\\Downloads\\RGB\\Train',\n",
    "    target_size=(IMG_SIZE,IMG_SIZE),\n",
    "    batch_size=BATCH_SIZE,\n",
    "    class_mode='binary',\n",
    "    subset='training'\n",
    "    )  \n",
    "val_generator =tarin_datagen.flow_from_directory(\n",
    "    r'C:\\Users\\aryah\\Downloads\\RGB\\Train',\n",
    "    target_size=(IMG_SIZE,IMG_SIZE),\n",
    "    batch_size=BATCH_SIZE,\n",
    "    class_mode='binary',\n",
    "    subset='validation'\n",
    "    )"
   ]
  },
  {
   "cell_type": "code",
   "execution_count": 5,
   "id": "0265f9ea-1d5f-4a4d-92c2-a36ef10a9c2f",
   "metadata": {},
   "outputs": [
    {
     "name": "stderr",
     "output_type": "stream",
     "text": [
      "C:\\Users\\aryah\\anaconda3\\Lib\\site-packages\\keras\\src\\layers\\convolutional\\base_conv.py:107: UserWarning: Do not pass an `input_shape`/`input_dim` argument to a layer. When using Sequential models, prefer using an `Input(shape)` object as the first layer in the model instead.\n",
      "  super().__init__(activity_regularizer=activity_regularizer, **kwargs)\n"
     ]
    }
   ],
   "source": [
    "model = keras.Sequential([\n",
    "    layers.Conv2D(32,(3,3),activation='relu',input_shape=(IMG_SIZE,IMG_SIZE,3)),\n",
    "    layers.MaxPooling2D((2,2)),\n",
    "    layers.Conv2D(64,(3,3),activation='relu'),\n",
    "    layers.MaxPooling2D((2,2)),\n",
    "    layers.Conv2D(128,(3,3),activation='relu'),\n",
    "    layers.MaxPooling2D((2,2)),\n",
    "    layers.Flatten(),\n",
    "    layers.Dense(128,activation='relu'),\n",
    "    layers.Dense(1,activation='sigmoid'),\n",
    "])   "
   ]
  },
  {
   "cell_type": "code",
   "execution_count": 6,
   "id": "a978fc02-197a-44be-94ac-9e55e4e94e24",
   "metadata": {},
   "outputs": [],
   "source": [
    "model.compile(optimizer='adam',loss='binary_crossentropy',metrics=['accuracy'])"
   ]
  },
  {
   "cell_type": "code",
   "execution_count": 7,
   "id": "899d6837-2954-471e-961a-57e895998f76",
   "metadata": {},
   "outputs": [
    {
     "name": "stdout",
     "output_type": "stream",
     "text": [
      "Epoch 1/5\n"
     ]
    },
    {
     "name": "stderr",
     "output_type": "stream",
     "text": [
      "C:\\Users\\aryah\\anaconda3\\Lib\\site-packages\\keras\\src\\trainers\\data_adapters\\py_dataset_adapter.py:121: UserWarning: Your `PyDataset` class should call `super().__init__(**kwargs)` in its constructor. `**kwargs` can include `workers`, `use_multiprocessing`, `max_queue_size`. Do not pass these arguments to `fit()`, as they will be ignored.\n",
      "  self._warn_if_super_not_called()\n"
     ]
    },
    {
     "name": "stdout",
     "output_type": "stream",
     "text": [
      "\u001b[1m2/2\u001b[0m \u001b[32m━━━━━━━━━━━━━━━━━━━━\u001b[0m\u001b[37m\u001b[0m \u001b[1m3s\u001b[0m 599ms/step - accuracy: 0.1921 - loss: -0.0549 - val_accuracy: 0.3333 - val_loss: -9.4266\n",
      "Epoch 2/5\n",
      "\u001b[1m2/2\u001b[0m \u001b[32m━━━━━━━━━━━━━━━━━━━━\u001b[0m\u001b[37m\u001b[0m \u001b[1m1s\u001b[0m 215ms/step - accuracy: 0.3472 - loss: -9.5457 - val_accuracy: 0.3333 - val_loss: -53.0810\n",
      "Epoch 3/5\n",
      "\u001b[1m2/2\u001b[0m \u001b[32m━━━━━━━━━━━━━━━━━━━━\u001b[0m\u001b[37m\u001b[0m \u001b[1m1s\u001b[0m 217ms/step - accuracy: 0.3449 - loss: -48.3551 - val_accuracy: 0.5000 - val_loss: -143.8493\n",
      "Epoch 4/5\n",
      "\u001b[1m2/2\u001b[0m \u001b[32m━━━━━━━━━━━━━━━━━━━━\u001b[0m\u001b[37m\u001b[0m \u001b[1m1s\u001b[0m 761ms/step - accuracy: 0.4537 - loss: -162.0010 - val_accuracy: 0.5000 - val_loss: -302.4143\n",
      "Epoch 5/5\n",
      "\u001b[1m2/2\u001b[0m \u001b[32m━━━━━━━━━━━━━━━━━━━━\u001b[0m\u001b[37m\u001b[0m \u001b[1m1s\u001b[0m 733ms/step - accuracy: 0.6389 - loss: -301.7491 - val_accuracy: 0.5000 - val_loss: -598.0285\n"
     ]
    },
    {
     "data": {
      "text/plain": [
       "<keras.src.callbacks.history.History at 0x1a3787ede50>"
      ]
     },
     "execution_count": 7,
     "metadata": {},
     "output_type": "execute_result"
    }
   ],
   "source": [
    "model.fit(train_generator,validation_data=val_generator,epochs=5)"
   ]
  },
  {
   "cell_type": "code",
   "execution_count": 8,
   "id": "7e646a19-b8da-4082-80ce-b0f2fadd04a4",
   "metadata": {},
   "outputs": [
    {
     "name": "stderr",
     "output_type": "stream",
     "text": [
      "WARNING:absl:You are saving your model as an HDF5 file via `model.save()` or `keras.saving.save_model(model)`. This file format is considered legacy. We recommend using instead the native Keras format, e.g. `model.save('my_model.keras')` or `keras.saving.save_model(model, 'my_model.keras')`. \n"
     ]
    }
   ],
   "source": [
    "model.save(\"Mode1.h5\")"
   ]
  },
  {
   "cell_type": "code",
   "execution_count": 9,
   "id": "1dc57a80-a8a8-4682-90a0-4b4e708fdc07",
   "metadata": {},
   "outputs": [
    {
     "name": "stderr",
     "output_type": "stream",
     "text": [
      "WARNING:absl:Compiled the loaded model, but the compiled metrics have yet to be built. `model.compile_metrics` will be empty until you train or evaluate the model.\n"
     ]
    },
    {
     "name": "stdout",
     "output_type": "stream",
     "text": [
      "Model Loaded\n"
     ]
    }
   ],
   "source": [
    "from tensorflow.keras.models import load_model\n",
    "from tensorflow.keras.preprocessing import image\n",
    "import numpy as np\n",
    "model=load_model('Mode1.h5')\n",
    "print(\"Model Loaded\")"
   ]
  },
  {
   "cell_type": "code",
   "execution_count": 10,
   "id": "7e624dde-a849-4d3a-9106-760893a0f548",
   "metadata": {},
   "outputs": [],
   "source": [
    "test_image_path=r'C:\\Users\\aryah\\Downloads\\RGB\\Train\\red\\red1.jpg'\n",
    "img=image.load_img(test_image_path,target_size=(224,224))\n",
    "img_array=image.img_to_array(img)\n",
    "img_array=np.expand_dims(img_array,axis=0)"
   ]
  },
  {
   "cell_type": "code",
   "execution_count": 11,
   "id": "bda2058a-0516-432f-b8ea-c9b811132afa",
   "metadata": {},
   "outputs": [
    {
     "name": "stdout",
     "output_type": "stream",
     "text": [
      "\u001b[1m1/1\u001b[0m \u001b[32m━━━━━━━━━━━━━━━━━━━━\u001b[0m\u001b[37m\u001b[0m \u001b[1m0s\u001b[0m 90ms/step\n",
      "[[1.]]\n"
     ]
    }
   ],
   "source": [
    "img_array/=255.\n",
    "prediction=model.predict(img_array)\n",
    "print(prediction)"
   ]
  },
  {
   "cell_type": "code",
   "execution_count": 12,
   "id": "714930f8-27a0-4a3e-837b-003ec3d1ba10",
   "metadata": {},
   "outputs": [
    {
     "name": "stdout",
     "output_type": "stream",
     "text": [
      "Prediction:Tumor It is Red (Probability: 1.0\n"
     ]
    }
   ],
   "source": [
    "if prediction<0.5:\n",
    "    print(\"Prediction It is Blue (Probability:\",prediction[0][0])\n",
    "else:\n",
    "    print(\"Prediction:Tumor It is Red (Probability:\",prediction[0][0])"
   ]
  },
  {
   "cell_type": "code",
   "execution_count": null,
   "id": "10962c93-f8ac-4e4d-9fef-de1c30fdc65c",
   "metadata": {},
   "outputs": [],
   "source": []
  },
  {
   "cell_type": "code",
   "execution_count": null,
   "id": "09b1778e-cc1d-46f4-9f49-c767e7f08f49",
   "metadata": {},
   "outputs": [],
   "source": []
  }
 ],
 "metadata": {
  "kernelspec": {
   "display_name": "Python 3 (ipykernel)",
   "language": "python",
   "name": "python3"
  },
  "language_info": {
   "codemirror_mode": {
    "name": "ipython",
    "version": 3
   },
   "file_extension": ".py",
   "mimetype": "text/x-python",
   "name": "python",
   "nbconvert_exporter": "python",
   "pygments_lexer": "ipython3",
   "version": "3.11.7"
  }
 },
 "nbformat": 4,
 "nbformat_minor": 5
}
