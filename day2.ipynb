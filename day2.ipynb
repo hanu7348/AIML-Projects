{
 "cells": [
  {
   "cell_type": "code",
   "execution_count": null,
   "id": "451abf75-3eb3-4630-b7da-0255bf6f55bf",
   "metadata": {},
   "outputs": [],
   "source": [
    "import numpy as np"
   ]
  },
  {
   "cell_type": "code",
   "execution_count": 2,
   "id": "977995f4-798b-41b2-b7e4-880b41e240a6",
   "metadata": {},
   "outputs": [],
   "source": [
    "a1 = np.array([34,56,23,12])\n",
    "a2 = np.array([78,90,34,76])"
   ]
  },
  {
   "cell_type": "code",
   "execution_count": 3,
   "id": "7edbb111-c555-4d0e-a141-140414af4b20",
   "metadata": {},
   "outputs": [
    {
     "data": {
      "text/plain": [
       "array([112, 146,  57,  88])"
      ]
     },
     "execution_count": 3,
     "metadata": {},
     "output_type": "execute_result"
    }
   ],
   "source": [
    "a1+a2"
   ]
  },
  {
   "cell_type": "code",
   "execution_count": 4,
   "id": "2a97ca44-7592-4538-8f46-9c083b5c0b8b",
   "metadata": {},
   "outputs": [
    {
     "data": {
      "text/plain": [
       "array([-44, -34, -11, -64])"
      ]
     },
     "execution_count": 4,
     "metadata": {},
     "output_type": "execute_result"
    }
   ],
   "source": [
    "a1-a2"
   ]
  },
  {
   "cell_type": "code",
   "execution_count": 6,
   "id": "82788a36-2594-4022-94a2-8d22c06ea1fa",
   "metadata": {},
   "outputs": [
    {
     "data": {
      "text/plain": [
       "array([2652, 5040,  782,  912])"
      ]
     },
     "execution_count": 6,
     "metadata": {},
     "output_type": "execute_result"
    }
   ],
   "source": [
    "a1*a2"
   ]
  },
  {
   "cell_type": "code",
   "execution_count": 8,
   "id": "de86bd8f-912b-4eab-9748-3c3f9dac3b42",
   "metadata": {},
   "outputs": [
    {
     "name": "stdout",
     "output_type": "stream",
     "text": [
      "[[1. 1. 1.]\n",
      " [1. 1. 1.]]\n"
     ]
    }
   ],
   "source": [
    "a3 = np.ones((2,3))\n",
    "print(a3)"
   ]
  },
  {
   "cell_type": "code",
   "execution_count": 11,
   "id": "a8573cdf-d689-4914-936d-0fd265313348",
   "metadata": {},
   "outputs": [
    {
     "name": "stdout",
     "output_type": "stream",
     "text": [
      "[[0. 0. 0. 0. 0.]\n",
      " [0. 0. 0. 0. 0.]\n",
      " [0. 0. 0. 0. 0.]\n",
      " [0. 0. 0. 0. 0.]]\n"
     ]
    }
   ],
   "source": [
    "a5 = np.zeros((4,5))\n",
    "print(a5)"
   ]
  },
  {
   "cell_type": "code",
   "execution_count": 13,
   "id": "b82f3432-9305-429d-8678-acc1b017abad",
   "metadata": {},
   "outputs": [
    {
     "name": "stdout",
     "output_type": "stream",
     "text": [
      "[[1. 0. 0. 0.]\n",
      " [0. 1. 0. 0.]\n",
      " [0. 0. 1. 0.]\n",
      " [0. 0. 0. 1.]]\n"
     ]
    }
   ],
   "source": [
    "a6 = np.eye(4)\n",
    "print(a6)"
   ]
  },
  {
   "cell_type": "code",
   "execution_count": 17,
   "id": "49e3785e-a895-42de-b219-314988d570d0",
   "metadata": {},
   "outputs": [
    {
     "name": "stdout",
     "output_type": "stream",
     "text": [
      "[ 4  6  8 10 12 14 16 18 20 22 24 26 28 30 32 34 36 38 40 42 44 46 48]\n"
     ]
    }
   ],
   "source": [
    "a7 = np.arange(4,50,2)\n",
    "print(a7)"
   ]
  },
  {
   "cell_type": "code",
   "execution_count": 19,
   "id": "0d6f3385-d89b-4efd-9a69-0211f3122f23",
   "metadata": {},
   "outputs": [
    {
     "name": "stdout",
     "output_type": "stream",
     "text": [
      "[   8    9   10   11   12   13   14   15   16   17   18   19   20   21\n",
      "   22   23   24   25   26   27   28   29   30   31   32   33   34   35\n",
      "   36   37   38   39   40   41   42   43   44   45   46   47   48   49\n",
      "   50   51   52   53   54   55   56   57   58   59   60   61   62   63\n",
      "   64   65   66   67   68   69   70   71   72   73   74   75   76   77\n",
      "   78   79   80   81   82   83   84   85   86   87   88   89   90   91\n",
      "   92   93   94   95   96   97   98   99  100  101  102  103  104  105\n",
      "  106  107  108  109  110  111  112  113  114  115  116  117  118  119\n",
      "  120  121  122  123  124  125  126  127  128  129  130  131  132  133\n",
      "  134  135  136  137  138  139  140  141  142  143  144  145  146  147\n",
      "  148  149  150  151  152  153  154  155  156  157  158  159  160  161\n",
      "  162  163  164  165  166  167  168  169  170  171  172  173  174  175\n",
      "  176  177  178  179  180  181  182  183  184  185  186  187  188  189\n",
      "  190  191  192  193  194  195  196  197  198  199  200  201  202  203\n",
      "  204  205  206  207  208  209  210  211  212  213  214  215  216  217\n",
      "  218  219  220  221  222  223  224  225  226  227  228  229  230  231\n",
      "  232  233  234  235  236  237  238  239  240  241  242  243  244  245\n",
      "  246  247  248  249  250  251  252  253  254  255  256  257  258  259\n",
      "  260  261  262  263  264  265  266  267  268  269  270  271  272  273\n",
      "  274  275  276  277  278  279  280  281  282  283  284  285  286  287\n",
      "  288  289  290  291  292  293  294  295  296  297  298  299  300  301\n",
      "  302  303  304  305  306  307  308  309  310  311  312  313  314  315\n",
      "  316  317  318  319  320  321  322  323  324  325  326  327  328  329\n",
      "  330  331  332  333  334  335  336  337  338  339  340  341  342  343\n",
      "  344  345  346  347  348  349  350  351  352  353  354  355  356  357\n",
      "  358  359  360  361  362  363  364  365  366  367  368  369  370  371\n",
      "  372  373  374  375  376  377  378  379  380  381  382  383  384  385\n",
      "  386  387  388  389  390  391  392  393  394  395  396  397  398  399\n",
      "  400  401  402  403  404  405  406  407  408  409  410  411  412  413\n",
      "  414  415  416  417  418  419  420  421  422  423  424  425  426  427\n",
      "  428  429  430  431  432  433  434  435  436  437  438  439  440  441\n",
      "  442  443  444  445  446  447  448  449  450  451  452  453  454  455\n",
      "  456  457  458  459  460  461  462  463  464  465  466  467  468  469\n",
      "  470  471  472  473  474  475  476  477  478  479  480  481  482  483\n",
      "  484  485  486  487  488  489  490  491  492  493  494  495  496  497\n",
      "  498  499  500  501  502  503  504  505  506  507  508  509  510  511\n",
      "  512  513  514  515  516  517  518  519  520  521  522  523  524  525\n",
      "  526  527  528  529  530  531  532  533  534  535  536  537  538  539\n",
      "  540  541  542  543  544  545  546  547  548  549  550  551  552  553\n",
      "  554  555  556  557  558  559  560  561  562  563  564  565  566  567\n",
      "  568  569  570  571  572  573  574  575  576  577  578  579  580  581\n",
      "  582  583  584  585  586  587  588  589  590  591  592  593  594  595\n",
      "  596  597  598  599  600  601  602  603  604  605  606  607  608  609\n",
      "  610  611  612  613  614  615  616  617  618  619  620  621  622  623\n",
      "  624  625  626  627  628  629  630  631  632  633  634  635  636  637\n",
      "  638  639  640  641  642  643  644  645  646  647  648  649  650  651\n",
      "  652  653  654  655  656  657  658  659  660  661  662  663  664  665\n",
      "  666  667  668  669  670  671  672  673  674  675  676  677  678  679\n",
      "  680  681  682  683  684  685  686  687  688  689  690  691  692  693\n",
      "  694  695  696  697  698  699  700  701  702  703  704  705  706  707\n",
      "  708  709  710  711  712  713  714  715  716  717  718  719  720  721\n",
      "  722  723  724  725  726  727  728  729  730  731  732  733  734  735\n",
      "  736  737  738  739  740  741  742  743  744  745  746  747  748  749\n",
      "  750  751  752  753  754  755  756  757  758  759  760  761  762  763\n",
      "  764  765  766  767  768  769  770  771  772  773  774  775  776  777\n",
      "  778  779  780  781  782  783  784  785  786  787  788  789  790  791\n",
      "  792  793  794  795  796  797  798  799  800  801  802  803  804  805\n",
      "  806  807  808  809  810  811  812  813  814  815  816  817  818  819\n",
      "  820  821  822  823  824  825  826  827  828  829  830  831  832  833\n",
      "  834  835  836  837  838  839  840  841  842  843  844  845  846  847\n",
      "  848  849  850  851  852  853  854  855  856  857  858  859  860  861\n",
      "  862  863  864  865  866  867  868  869  870  871  872  873  874  875\n",
      "  876  877  878  879  880  881  882  883  884  885  886  887  888  889\n",
      "  890  891  892  893  894  895  896  897  898  899  900  901  902  903\n",
      "  904  905  906  907  908  909  910  911  912  913  914  915  916  917\n",
      "  918  919  920  921  922  923  924  925  926  927  928  929  930  931\n",
      "  932  933  934  935  936  937  938  939  940  941  942  943  944  945\n",
      "  946  947  948  949  950  951  952  953  954  955  956  957  958  959\n",
      "  960  961  962  963  964  965  966  967  968  969  970  971  972  973\n",
      "  974  975  976  977  978  979  980  981  982  983  984  985  986  987\n",
      "  988  989  990  991  992  993  994  995  996  997  998  999 1000]\n"
     ]
    }
   ],
   "source": [
    "a8 = np.arange(8,1001)\n",
    "print(a8)"
   ]
  },
  {
   "cell_type": "code",
   "execution_count": 20,
   "id": "83f3960f-71c3-41f0-bd2c-2e720c808335",
   "metadata": {},
   "outputs": [
    {
     "name": "stdout",
     "output_type": "stream",
     "text": [
      "[  5  13  21  29  37  45  53  61  69  77  85  93 101 109 117 125 133 141\n",
      " 149 157 165 173 181 189 197 205 213 221 229 237 245 253 261 269 277 285\n",
      " 293 301 309 317 325 333 341 349 357 365 373 381 389 397 405 413 421 429\n",
      " 437 445 453 461 469 477 485 493 501 509 517 525 533 541 549 557 565 573\n",
      " 581 589 597 605 613 621 629 637 645 653 661 669 677 685 693 701 709 717\n",
      " 725 733 741 749 757 765 773 781 789 797 805 813 821 829 837 845 853 861\n",
      " 869 877 885 893 901 909 917 925 933 941 949 957 965 973 981 989 997]\n"
     ]
    }
   ],
   "source": [
    "a9 = np.arange(5,1001,8)\n",
    "print(a9)"
   ]
  },
  {
   "cell_type": "code",
   "execution_count": 24,
   "id": "6ab9b5cd-1a12-486d-8a8b-bcf5d134fda4",
   "metadata": {},
   "outputs": [
    {
     "data": {
      "text/plain": [
       "2"
      ]
     },
     "execution_count": 24,
     "metadata": {},
     "output_type": "execute_result"
    }
   ],
   "source": [
    "np.ndim(a5)"
   ]
  },
  {
   "cell_type": "code",
   "execution_count": 26,
   "id": "a11b3cdf-a62b-4cca-8486-4d7682933015",
   "metadata": {},
   "outputs": [
    {
     "name": "stdout",
     "output_type": "stream",
     "text": [
      "Generated array: [ 4  6  8 10 12 14 16 18 20 22 24 26 28 30 32 34 36 38 40 42 44 46 48]\n",
      "Shape of the array: (23,)\n",
      "Size along axis 0: 23\n"
     ]
    }
   ],
   "source": [
    "import numpy as np\n",
    "a7 = np.arange(4, 50, 2)\n",
    "print(\"Generated array:\", a7)\n",
    "shape_a7 = np.shape(a7)\n",
    "print(\"Shape of the array:\", shape_a7)\n",
    "size_axis_0 = shape_a7[0]\n",
    "print(\"Size along axis 0:\", size_axis_0)\n"
   ]
  },
  {
   "cell_type": "code",
   "execution_count": 29,
   "id": "bffffb32-b544-4b0b-ba0a-e52c8d3b3b40",
   "metadata": {},
   "outputs": [
    {
     "name": "stdout",
     "output_type": "stream",
     "text": [
      "[[1 2 3]\n",
      " [4 5 6]]\n"
     ]
    }
   ],
   "source": [
    "#2D \n",
    "a10 = np.array([[1, 2, 3], [4, 5, 6]])\n",
    "print(a10)\n"
   ]
  },
  {
   "cell_type": "code",
   "execution_count": 31,
   "id": "c7b67e1a-8e02-442c-981e-06719f7cbf44",
   "metadata": {},
   "outputs": [
    {
     "name": "stdout",
     "output_type": "stream",
     "text": [
      "[[[ 1  2  3]\n",
      "  [ 4  5  6]]\n",
      "\n",
      " [[ 7  8  9]\n",
      "  [10 11 12]]]\n"
     ]
    }
   ],
   "source": [
    "# Create a 2D array with 4 rows\n",
    "a11 = np.array([[[1, 2, 3], [4, 5, 6]], [[7, 8, 9], [10, 11, 12]]])\n",
    "print(a11)"
   ]
  },
  {
   "cell_type": "code",
   "execution_count": null,
   "id": "49eb3de2-7c7d-46a4-9e40-554eb472433e",
   "metadata": {},
   "outputs": [],
   "source": []
  },
  {
   "cell_type": "code",
   "execution_count": 36,
   "id": "f6efa5f3-b904-426e-acdf-19c79cd52a8b",
   "metadata": {},
   "outputs": [],
   "source": [
    "m = np.array([89,90,43,46,12,37])"
   ]
  },
  {
   "cell_type": "code",
   "execution_count": 37,
   "id": "3228a8b0-a897-42bf-ab00-13f15a8badc8",
   "metadata": {},
   "outputs": [
    {
     "name": "stdout",
     "output_type": "stream",
     "text": [
      "52.833333333333336\n"
     ]
    }
   ],
   "source": [
    "Avg = np.mean(m)\n",
    "print(Avg)"
   ]
  },
  {
   "cell_type": "code",
   "execution_count": 40,
   "id": "52b028d2-c8c5-4005-89e8-b12cc929f665",
   "metadata": {},
   "outputs": [
    {
     "name": "stdout",
     "output_type": "stream",
     "text": [
      "44.5\n"
     ]
    }
   ],
   "source": [
    "med = np.median(m)\n",
    "print(med)"
   ]
  },
  {
   "cell_type": "code",
   "execution_count": 41,
   "id": "49800aae-10da-46b3-bcd2-26b37dd8eca7",
   "metadata": {},
   "outputs": [
    {
     "name": "stdout",
     "output_type": "stream",
     "text": [
      "28.139039705639487\n"
     ]
    }
   ],
   "source": [
    "sd = np.std(m)\n",
    "print(sd)"
   ]
  },
  {
   "cell_type": "code",
   "execution_count": 43,
   "id": "d1424d23-6148-44b6-898d-003b0ac46525",
   "metadata": {},
   "outputs": [
    {
     "name": "stdout",
     "output_type": "stream",
     "text": [
      "791.8055555555555\n"
     ]
    }
   ],
   "source": [
    "v = np.var(m)\n",
    "print(v)"
   ]
  },
  {
   "cell_type": "code",
   "execution_count": 44,
   "id": "1d34e313-faa7-4b7a-88ad-c97d5aef2fc3",
   "metadata": {},
   "outputs": [],
   "source": [
    "from numpy import random as rd"
   ]
  },
  {
   "cell_type": "code",
   "execution_count": 45,
   "id": "5d45a37d-b288-437a-8791-83999bc56002",
   "metadata": {},
   "outputs": [
    {
     "name": "stdout",
     "output_type": "stream",
     "text": [
      "88\n"
     ]
    }
   ],
   "source": [
    "r1 = rd.randint(90)\n",
    "print(r1)"
   ]
  },
  {
   "cell_type": "code",
   "execution_count": 46,
   "id": "d82238db-b64e-425b-8b7f-623cc57d9621",
   "metadata": {},
   "outputs": [
    {
     "name": "stdout",
     "output_type": "stream",
     "text": [
      "[49 34  1 76 60 47 50 76 66]\n"
     ]
    }
   ],
   "source": [
    "r2 = rd.randint(90,size=9)\n",
    "print(r2)"
   ]
  },
  {
   "cell_type": "code",
   "execution_count": 47,
   "id": "b571748d-66f9-4f86-9b7b-1c8346182770",
   "metadata": {},
   "outputs": [
    {
     "name": "stdout",
     "output_type": "stream",
     "text": [
      "[[79 40 13]\n",
      " [ 6 22 81]]\n"
     ]
    }
   ],
   "source": [
    "r3 = rd.randint(90,size = (2,3))\n",
    "print(r3)"
   ]
  },
  {
   "cell_type": "code",
   "execution_count": 48,
   "id": "8b37fb72-a127-4b52-9ddb-26e99a12afed",
   "metadata": {},
   "outputs": [
    {
     "name": "stdout",
     "output_type": "stream",
     "text": [
      "[0.44742242 0.04994529 0.69499202 0.46643872 0.35677227 0.51207075\n",
      " 0.55795259 0.74919266 0.82782891 0.86993003 0.16434212 0.01542859\n",
      " 0.41542846 0.06336008 0.59937921 0.08040224 0.2849709  0.28722284\n",
      " 0.65202861 0.87131246 0.59307699 0.25066127 0.86138863 0.1994872\n",
      " 0.61640931 0.58692233 0.85895518 0.06118879 0.15589961 0.33663023\n",
      " 0.19272821 0.21641875 0.75617038 0.22183893 0.45415522 0.76253491\n",
      " 0.95482754 0.041532   0.35223636 0.43208908 0.56512195 0.69695908\n",
      " 0.73864456 0.39409613 0.30308077 0.81289801 0.07217405 0.59230772\n",
      " 0.17220215 0.9063072  0.11039671 0.40347817 0.17862724 0.76731998\n",
      " 0.37995118 0.77531056 0.60317954 0.90491769 0.41959574 0.36859895\n",
      " 0.98891356 0.79283677 0.11019566 0.43910496 0.91867534 0.83186477\n",
      " 0.24780734 0.00301424 0.52750941 0.43235845 0.70940698 0.53758857\n",
      " 0.81780209 0.29021722 0.69241384 0.8887026  0.92446844 0.40781808\n",
      " 0.0501864  0.89116343 0.76457742 0.8485191  0.23805131 0.49393983\n",
      " 0.83758256 0.67970799 0.22198803 0.57045268 0.65995291 0.56922063]\n"
     ]
    }
   ],
   "source": [
    "r4 = rd.rand(90)\n",
    "print(r4)"
   ]
  },
  {
   "cell_type": "code",
   "execution_count": 49,
   "id": "ea6445b4-b847-4653-a9eb-39af9a8cde77",
   "metadata": {},
   "outputs": [
    {
     "name": "stdout",
     "output_type": "stream",
     "text": [
      "[2.00928677 9.38752376 3.56692351 5.61582713 5.44707254 1.1048009\n",
      " 1.2049753  2.02749022 0.64965222 5.19549384 0.22117171 8.70891441\n",
      " 4.49791767 9.37457845 5.95463426 1.86835219 8.44570587 3.64338629\n",
      " 3.80086258 0.69216609 8.42672453 8.88487445 6.32244459 2.64072132\n",
      " 7.66801288 2.52961617 9.05574329 4.05892131 4.73601302 2.91199069\n",
      " 0.38384617 3.97679284 4.00421909 9.61977783 5.28893729 1.922192\n",
      " 5.44381895 9.56099406 2.22355507 9.30149285 9.93870823 2.10547058\n",
      " 1.65625408 7.72834784 1.26727039 6.43436301 3.32183144 6.52445869\n",
      " 8.64967268 9.46535827 4.30273711 0.27961364 7.71084435 3.09043083\n",
      " 4.29424013 8.30781364 5.89311073 9.95691998 1.01863467 9.69644775\n",
      " 6.14598259 3.6646899  3.92592009 6.6389476  5.13345529 1.63313363\n",
      " 6.27063429 7.29995163 5.8294712  5.69126056 0.03274536 9.4652253\n",
      " 9.0788573  4.60498879 9.58829482 4.61800499 7.94274988 1.71831661\n",
      " 3.01750356 5.68210533 6.36242962 2.14345496 4.01966116 7.57723155\n",
      " 5.11660764 5.56836083 1.61114532 9.92425339 8.48072317 1.637035  ]\n"
     ]
    }
   ],
   "source": [
    "r5 = 10*(rd.rand(90))\n",
    "print(r5)"
   ]
  },
  {
   "cell_type": "code",
   "execution_count": 50,
   "id": "284d041b-da7f-4140-8897-1b9a6f4c8559",
   "metadata": {},
   "outputs": [
    {
     "name": "stdout",
     "output_type": "stream",
     "text": [
      "800\n"
     ]
    }
   ],
   "source": [
    "r5 = 10*(rd.randint(90))\n",
    "print(r5)"
   ]
  },
  {
   "cell_type": "code",
   "execution_count": 51,
   "id": "c40d65d1-5986-4692-a30c-bafb2667a22e",
   "metadata": {},
   "outputs": [
    {
     "name": "stdout",
     "output_type": "stream",
     "text": [
      "[[1.22745681e+00 9.18357133e+00]\n",
      " [8.01422535e+00 6.03604002e+00]\n",
      " [8.16863637e+00 8.09935097e+00]\n",
      " [6.16427184e+00 1.94915502e+00]\n",
      " [7.24217029e+00 1.82781215e+00]\n",
      " [2.98953415e+00 2.28599245e+00]\n",
      " [9.00333317e+00 8.50457191e+00]\n",
      " [9.48145447e+00 2.56505767e+00]\n",
      " [3.03299140e+00 3.51882621e+00]\n",
      " [1.03811273e+00 8.46118122e+00]\n",
      " [1.73249210e-01 8.37032660e+00]\n",
      " [4.92242056e+00 3.91504373e-02]\n",
      " [7.65344065e+00 9.31275471e+00]\n",
      " [5.30595963e+00 5.38649688e+00]\n",
      " [1.76837829e+00 3.24273011e-01]\n",
      " [8.31621545e+00 3.38831219e+00]\n",
      " [7.26086313e+00 4.80112081e+00]\n",
      " [7.57666690e+00 6.21729228e+00]\n",
      " [7.70479891e-01 5.93382549e+00]\n",
      " [3.48157677e+00 9.09882865e-01]\n",
      " [6.17847874e+00 4.51272995e+00]\n",
      " [5.20127671e+00 9.26346935e+00]\n",
      " [3.20931480e+00 4.08823884e+00]\n",
      " [4.35013649e+00 7.46822253e+00]\n",
      " [2.06322357e+00 8.28260642e+00]\n",
      " [4.63819748e+00 8.14238668e+00]\n",
      " [1.52240444e+00 1.43411482e+00]\n",
      " [2.70145460e-01 5.43284771e+00]\n",
      " [8.65954828e+00 9.02443060e+00]\n",
      " [2.29197743e+00 1.25392602e+00]\n",
      " [4.59539865e+00 1.02550284e+00]\n",
      " [6.06726782e+00 7.49368653e+00]\n",
      " [8.77589911e+00 1.17608490e-02]\n",
      " [8.27829928e+00 7.23143757e-01]\n",
      " [1.61933199e+00 8.93672183e+00]\n",
      " [4.40988517e+00 7.35704244e+00]\n",
      " [9.42384967e+00 1.22240978e+00]\n",
      " [8.51545915e+00 1.29921629e+00]\n",
      " [3.00285692e+00 6.14891294e+00]\n",
      " [5.32544512e+00 5.17072859e+00]\n",
      " [7.37779895e+00 1.47914701e+00]\n",
      " [3.84673325e+00 1.45996372e+00]\n",
      " [8.65223708e-01 4.34655163e+00]\n",
      " [7.83409542e-01 5.63334063e+00]\n",
      " [1.82063149e+00 8.84128348e+00]\n",
      " [6.43655375e+00 5.19320991e+00]\n",
      " [5.22885786e+00 6.55803475e+00]\n",
      " [1.31347650e+00 2.23586681e+00]\n",
      " [7.83393685e+00 4.01337509e+00]\n",
      " [4.88766623e+00 8.10759352e+00]\n",
      " [6.85991991e+00 2.37244854e-01]\n",
      " [8.69357326e+00 6.52007092e+00]\n",
      " [6.22626036e+00 3.79534650e+00]\n",
      " [6.65953172e+00 8.81808650e+00]\n",
      " [2.86784130e+00 2.48861779e-01]\n",
      " [6.72281732e+00 4.14821226e+00]\n",
      " [6.70475940e+00 2.33756353e-01]\n",
      " [4.20154188e-03 2.00127066e+00]\n",
      " [5.46283495e+00 9.90729503e+00]\n",
      " [6.29751021e+00 8.90191320e+00]\n",
      " [5.58805407e+00 9.23557766e+00]\n",
      " [1.79841029e+00 2.61232766e+00]\n",
      " [7.28417844e+00 9.95560729e+00]\n",
      " [3.74118871e+00 6.29283240e+00]\n",
      " [8.70909111e-01 3.41201935e+00]\n",
      " [8.13357353e-01 4.75871011e+00]\n",
      " [8.67608133e+00 5.56396223e+00]\n",
      " [7.10085683e+00 9.52781916e+00]\n",
      " [7.23576217e+00 4.17939550e+00]\n",
      " [7.90124325e+00 4.54549307e+00]\n",
      " [7.52845247e+00 4.31708775e+00]\n",
      " [2.43181209e+00 2.64427887e+00]\n",
      " [2.02226876e+00 4.73558542e-02]\n",
      " [6.34695572e+00 1.59237135e-01]\n",
      " [9.58289182e+00 6.29117897e-01]\n",
      " [5.80069556e+00 9.97794558e+00]\n",
      " [5.18509538e+00 5.77453459e+00]\n",
      " [3.81201742e+00 8.46107772e+00]\n",
      " [5.50128784e+00 8.22486197e-01]\n",
      " [7.48821479e+00 9.00384545e+00]\n",
      " [6.58458490e+00 4.93648167e+00]\n",
      " [4.73155232e+00 7.23747151e+00]\n",
      " [6.35574914e+00 2.46615660e+00]\n",
      " [8.92533764e+00 4.86379498e+00]\n",
      " [1.86836761e+00 4.44191893e+00]\n",
      " [5.14989518e+00 6.30129521e+00]\n",
      " [1.26585592e+00 8.29269775e+00]\n",
      " [2.12020686e-01 4.07518981e+00]\n",
      " [8.55485744e+00 3.06649800e+00]\n",
      " [6.94036784e+00 1.99929235e+00]]\n"
     ]
    }
   ],
   "source": [
    "r5 = 10*(rd.rand(90,2))\n",
    "print(r5)"
   ]
  },
  {
   "cell_type": "code",
   "execution_count": 54,
   "id": "fd2397c5-b6f9-403d-8d6f-d4af345630e7",
   "metadata": {},
   "outputs": [
    {
     "name": "stdout",
     "output_type": "stream",
     "text": [
      "[[1.02384041 6.12906925 9.30075439 9.91437459]\n",
      " [7.93732306 4.38294539 0.79973524 4.25156056]\n",
      " [7.22407022 6.34742334 1.83553375 8.38398673]\n",
      " [7.22443366 1.39524276 9.90076528 4.7458383 ]\n",
      " [8.99548232 9.48387812 3.69630639 4.60906602]\n",
      " [9.69135265 2.1451894  6.09993145 7.83145272]\n",
      " [2.06213377 9.30883618 0.53844032 6.88168118]\n",
      " [6.19140781 0.04292932 8.63141141 6.51490332]\n",
      " [2.71351975 2.86700557 5.79473097 1.45823388]\n",
      " [3.29278368 8.18528985 8.06564515 5.38498471]\n",
      " [1.29089675 2.61244008 8.96352339 7.41802746]\n",
      " [6.1330002  5.53728549 2.037861   0.5140825 ]\n",
      " [8.6769802  3.13525974 3.33601303 7.76953239]\n",
      " [2.3032745  0.63839787 6.94145294 0.89262012]\n",
      " [2.47576715 2.73033574 1.4236982  2.68599668]\n",
      " [8.74676096 7.9608319  1.27512288 8.32642818]\n",
      " [9.79676076 6.29361356 6.79647173 2.00935545]\n",
      " [5.65282359 4.66768606 1.27084685 6.75751224]\n",
      " [9.59398838 4.17925421 3.90258214 6.00075504]\n",
      " [6.74202035 5.66745472 2.54925703 5.86689059]\n",
      " [8.22265299 4.50567107 8.45101733 6.61501402]\n",
      " [1.55646232 9.62670463 1.86690738 1.175742  ]\n",
      " [9.22546611 3.8693026  2.25049032 1.45766893]\n",
      " [4.51264491 5.25715601 1.62935612 7.96090867]\n",
      " [7.89286268 2.45823765 8.74330778 9.38444216]\n",
      " [3.16290561 4.69598808 5.36934492 4.04543954]\n",
      " [7.40821798 0.45267082 8.46615899 1.81749014]\n",
      " [6.36390662 6.03550245 5.25456775 9.58804539]\n",
      " [7.40638851 9.54145904 6.79049312 4.83461805]\n",
      " [6.54526333 8.96261524 5.47712021 9.23420121]\n",
      " [1.94837126 3.97167565 1.84447064 2.89416723]\n",
      " [6.4264845  5.68706463 5.5714377  8.98247237]\n",
      " [8.78028062 3.98175215 9.64097491 0.46828268]\n",
      " [6.18949387 1.47936783 6.35408727 7.33437483]\n",
      " [6.85629531 5.08959126 6.2363751  5.09931425]\n",
      " [9.39563856 6.61620767 9.70226635 9.90101502]\n",
      " [2.35675521 8.24048    9.29140008 6.16469804]\n",
      " [7.60909395 7.6349532  6.93576753 6.16299163]\n",
      " [8.32126137 9.37496438 1.45457996 3.20280825]\n",
      " [9.53011637 6.75498151 4.23580797 3.7041969 ]\n",
      " [4.21528236 9.76420107 6.11665725 3.57939622]\n",
      " [7.58278466 2.97488685 2.20797134 0.0152883 ]\n",
      " [4.65447549 9.78412355 4.66339475 0.09522452]\n",
      " [6.36336198 0.31403381 0.89695118 7.70179717]\n",
      " [6.62741538 6.29140983 1.97403397 3.85055668]\n",
      " [2.13643643 5.41134931 4.02639796 3.43536604]\n",
      " [1.23465224 4.10593731 8.78238909 7.25797808]\n",
      " [4.96574023 9.12165969 3.54318651 9.4084963 ]\n",
      " [2.65115674 1.25363705 7.01165793 1.33834643]\n",
      " [5.39695843 4.75178633 0.64483837 4.75984389]\n",
      " [2.01932654 2.46321047 9.18060261 8.14280082]\n",
      " [4.59252731 7.96903459 1.82823184 0.71002638]\n",
      " [7.90741388 4.21031542 1.44336818 6.9053712 ]\n",
      " [8.20823349 5.44046371 5.38309921 3.11357802]\n",
      " [8.30646552 8.04603279 8.61092359 5.37798633]\n",
      " [8.63363692 1.1931456  5.92842031 5.55688831]\n",
      " [5.75510227 6.00984961 8.39599421 7.2555957 ]\n",
      " [8.21025312 0.59903156 4.04545327 9.25901911]\n",
      " [8.45974145 9.79816676 8.15106768 1.31202079]\n",
      " [8.38595078 6.64832323 1.8370191  1.46052303]\n",
      " [6.17369667 9.05452584 5.95369673 3.39943651]\n",
      " [4.41648465 5.72736792 2.43653866 8.22795079]\n",
      " [6.04711815 4.65224994 0.37422674 0.7892632 ]\n",
      " [6.24466161 2.02737156 6.98455585 4.81868898]\n",
      " [5.65667817 0.15581434 3.65553642 3.69358006]\n",
      " [8.05385932 9.75276128 6.38134766 8.51259619]\n",
      " [1.08232594 6.51863414 7.05353052 1.57699979]\n",
      " [4.79051684 5.95507056 5.8240879  5.3766994 ]\n",
      " [3.13395548 0.30980048 2.82428941 2.87716935]\n",
      " [9.21253728 3.99488314 0.89706003 9.23738597]\n",
      " [7.77467774 8.05632521 1.12296925 3.41596766]\n",
      " [4.2648294  2.48305375 0.85113308 1.34136904]\n",
      " [4.23429555 6.87360001 0.16028987 8.36454573]\n",
      " [1.42251201 4.36392741 9.00231144 0.79478043]\n",
      " [4.8135676  0.86112437 4.95620727 8.00099102]\n",
      " [4.98732614 3.25294173 1.51796441 3.48681387]\n",
      " [3.52348057 7.28100051 7.84445541 5.23179491]\n",
      " [6.02744066 9.35294942 7.74454486 2.84842262]\n",
      " [8.30406802 5.63361882 6.87157185 2.36265282]\n",
      " [5.59101448 3.65877445 5.99754018 9.99761571]\n",
      " [2.40350323 5.98819079 2.81598994 5.5904891 ]\n",
      " [6.28830636 4.30783505 6.09154343 3.37637373]\n",
      " [9.34219138 3.74661004 5.84791255 2.99621663]\n",
      " [0.46909814 7.99844722 5.63476756 9.3300159 ]\n",
      " [0.50257824 9.70276578 1.27324341 9.28391628]\n",
      " [4.75671816 6.64238855 1.36372976 9.27495562]\n",
      " [4.98450015 1.89766248 1.78906094 7.6897387 ]\n",
      " [8.17866586 7.41307484 5.72610068 4.0762028 ]\n",
      " [5.37969151 5.29984989 4.48492903 7.60245086]\n",
      " [3.17622015 8.51467628 4.6366189  9.00210402]]\n"
     ]
    }
   ],
   "source": [
    "r5 = 10*(rd.rand(90,4))\n",
    "print(r5)"
   ]
  },
  {
   "cell_type": "code",
   "execution_count": 58,
   "id": "c59d60fd-875d-4f72-a441-65fef04e0fd6",
   "metadata": {},
   "outputs": [
    {
     "name": "stdout",
     "output_type": "stream",
     "text": [
      "[[ 1 98 36 91 10]\n",
      " [90 74 54 23 95]\n",
      " [51 15 49 52 36]\n",
      " [37 93 93 97 21]]\n"
     ]
    }
   ],
   "source": [
    "a = rd.randint(100, size= (4,5))\n",
    "print(a)"
   ]
  },
  {
   "cell_type": "code",
   "execution_count": 71,
   "id": "2852e142-9dca-401d-8546-e56109d511ed",
   "metadata": {},
   "outputs": [
    {
     "name": "stdout",
     "output_type": "stream",
     "text": [
      "[[44 47 64 67 67]\n",
      " [ 9 83 21 36 87]\n",
      " [70 88 88 12 58]\n",
      " [65 39 87 46 88]]\n"
     ]
    }
   ],
   "source": [
    "rd.seed(0)\n",
    "a = np.random.randint(100, size=(4, 5))\n",
    "print(a)"
   ]
  },
  {
   "cell_type": "code",
   "execution_count": 72,
   "id": "2799a214-a2d6-4950-9d66-95dbd276a15d",
   "metadata": {},
   "outputs": [
    {
     "name": "stdout",
     "output_type": "stream",
     "text": [
      "[[44 47 64 67 67 44 47 64 67 67]\n",
      " [ 9 83 21 36 87  9 83 21 36 87]\n",
      " [70 88 88 12 58 70 88 88 12 58]\n",
      " [65 39 87 46 88 65 39 87 46 88]]\n"
     ]
    }
   ],
   "source": [
    "print(np.hstack((a,a)))"
   ]
  },
  {
   "cell_type": "code",
   "execution_count": 73,
   "id": "849e153b-6f2e-4f57-b368-4c7fc3a66ae4",
   "metadata": {},
   "outputs": [
    {
     "name": "stdout",
     "output_type": "stream",
     "text": [
      "[[44 47 64 67 67]\n",
      " [ 9 83 21 36 87]\n",
      " [70 88 88 12 58]\n",
      " [65 39 87 46 88]\n",
      " [44 47 64 67 67]\n",
      " [ 9 83 21 36 87]\n",
      " [70 88 88 12 58]\n",
      " [65 39 87 46 88]]\n"
     ]
    }
   ],
   "source": [
    "print(np.vstack((a,a)))"
   ]
  },
  {
   "cell_type": "code",
   "execution_count": 79,
   "id": "3b317b81-1a77-4f2d-bad7-15c4f0726607",
   "metadata": {},
   "outputs": [
    {
     "name": "stdout",
     "output_type": "stream",
     "text": [
      "[array([[ 1,  2],\n",
      "       [ 5,  6],\n",
      "       [ 9, 10]]), array([[ 3,  4],\n",
      "       [ 7,  8],\n",
      "       [11, 12]])]\n"
     ]
    }
   ],
   "source": [
    "result = np.hsplit(a, 2)\n",
    "print(result)\n"
   ]
  },
  {
   "cell_type": "code",
   "execution_count": 80,
   "id": "3050ad1e-3d19-42d2-bbc9-5809e2a34e6b",
   "metadata": {},
   "outputs": [
    {
     "data": {
      "text/plain": [
       "[array([[ 1,  2],\n",
       "        [ 5,  6],\n",
       "        [ 9, 10]]),\n",
       " array([[ 3,  4],\n",
       "        [ 7,  8],\n",
       "        [11, 12]])]"
      ]
     },
     "execution_count": 80,
     "metadata": {},
     "output_type": "execute_result"
    }
   ],
   "source": [
    "np.hsplit(a,2)"
   ]
  },
  {
   "cell_type": "code",
   "execution_count": 85,
   "id": "0361d8eb-648a-4688-a805-0005a4ae3011",
   "metadata": {},
   "outputs": [
    {
     "data": {
      "text/plain": [
       "[array([[ 1,  2],\n",
       "        [ 5,  6],\n",
       "        [ 9, 10]]),\n",
       " array([[ 3,  4],\n",
       "        [ 7,  8],\n",
       "        [11, 12]]),\n",
       " array([], shape=(3, 0), dtype=int32),\n",
       " array([], shape=(3, 0), dtype=int32)]"
      ]
     },
     "execution_count": 85,
     "metadata": {},
     "output_type": "execute_result"
    }
   ],
   "source": [
    "np.hsplit(a,(2,5,9))"
   ]
  },
  {
   "cell_type": "code",
   "execution_count": 86,
   "id": "fa1b81ae-7a5b-47a5-a7f9-182fa9d5349f",
   "metadata": {},
   "outputs": [
    {
     "data": {
      "text/plain": [
       "[array([[1],\n",
       "        [5],\n",
       "        [9]]),\n",
       " array([[ 2,  3,  4],\n",
       "        [ 6,  7,  8],\n",
       "        [10, 11, 12]]),\n",
       " array([], shape=(3, 0), dtype=int32),\n",
       " array([], shape=(3, 0), dtype=int32)]"
      ]
     },
     "execution_count": 86,
     "metadata": {},
     "output_type": "execute_result"
    }
   ],
   "source": [
    "np.hsplit(a,(1,5,9))"
   ]
  },
  {
   "cell_type": "code",
   "execution_count": 87,
   "id": "0460a95b-3d1d-4158-a52d-ee2a7c36827b",
   "metadata": {},
   "outputs": [
    {
     "data": {
      "text/plain": [
       "[array([[1, 2, 3, 4]]),\n",
       " array([[ 5,  6,  7,  8],\n",
       "        [ 9, 10, 11, 12]]),\n",
       " array([], shape=(0, 4), dtype=int32),\n",
       " array([], shape=(0, 4), dtype=int32)]"
      ]
     },
     "execution_count": 87,
     "metadata": {},
     "output_type": "execute_result"
    }
   ],
   "source": [
    "np.vsplit(a,(1,5,9))"
   ]
  },
  {
   "cell_type": "code",
   "execution_count": 93,
   "id": "dc2c8e6d-61dc-4457-831c-b7cbef0a0e93",
   "metadata": {},
   "outputs": [
    {
     "name": "stdout",
     "output_type": "stream",
     "text": [
      "[[54  0 38]\n",
      " [19 46 42]\n",
      " [56 60 77]\n",
      " [30 24  2]\n",
      " [ 3 94 98]\n",
      " [13 40 72]\n",
      " [19 95 72]\n",
      " [26 66 52]\n",
      " [67 61 14]]\n"
     ]
    }
   ],
   "source": [
    "rt1 = rd.randint(100, size = (9,3))\n",
    "print(rt1)"
   ]
  },
  {
   "cell_type": "code",
   "execution_count": 94,
   "id": "94aa927f-c0e5-42a3-80d2-4fca55ecfe4d",
   "metadata": {},
   "outputs": [
    {
     "data": {
      "text/plain": [
       "[array([[54],\n",
       "        [19],\n",
       "        [56],\n",
       "        [30],\n",
       "        [ 3],\n",
       "        [13],\n",
       "        [19],\n",
       "        [26],\n",
       "        [67]]),\n",
       " array([[ 0],\n",
       "        [46],\n",
       "        [60],\n",
       "        [24],\n",
       "        [94],\n",
       "        [40],\n",
       "        [95],\n",
       "        [66],\n",
       "        [61]]),\n",
       " array([[38],\n",
       "        [42],\n",
       "        [77],\n",
       "        [ 2],\n",
       "        [98],\n",
       "        [72],\n",
       "        [72],\n",
       "        [52],\n",
       "        [14]])]"
      ]
     },
     "execution_count": 94,
     "metadata": {},
     "output_type": "execute_result"
    }
   ],
   "source": [
    "np.hsplit(rt1,3)"
   ]
  },
  {
   "cell_type": "code",
   "execution_count": 95,
   "id": "db5c557d-484c-4a86-adab-f0ed1bb11d0a",
   "metadata": {},
   "outputs": [
    {
     "data": {
      "text/plain": [
       "[array([[54,  0, 38],\n",
       "        [19, 46, 42],\n",
       "        [56, 60, 77]]),\n",
       " array([[30, 24,  2],\n",
       "        [ 3, 94, 98],\n",
       "        [13, 40, 72]]),\n",
       " array([[19, 95, 72],\n",
       "        [26, 66, 52],\n",
       "        [67, 61, 14]])]"
      ]
     },
     "execution_count": 95,
     "metadata": {},
     "output_type": "execute_result"
    }
   ],
   "source": [
    "np.vsplit(rt1,3)"
   ]
  },
  {
   "cell_type": "code",
   "execution_count": 97,
   "id": "9487571d-028a-4b95-85ae-1d13c84dc74b",
   "metadata": {},
   "outputs": [
    {
     "data": {
      "text/plain": [
       "[array([[54,  0, 38],\n",
       "        [19, 46, 42]]),\n",
       " array([[56, 60, 77],\n",
       "        [30, 24,  2],\n",
       "        [ 3, 94, 98]]),\n",
       " array([[13, 40, 72],\n",
       "        [19, 95, 72],\n",
       "        [26, 66, 52],\n",
       "        [67, 61, 14]])]"
      ]
     },
     "execution_count": 97,
     "metadata": {},
     "output_type": "execute_result"
    }
   ],
   "source": [
    "np.vsplit(rt1,(2,5))"
   ]
  },
  {
   "cell_type": "code",
   "execution_count": 98,
   "id": "0ebf64a6-b835-4a43-b8b8-33242c34fab2",
   "metadata": {},
   "outputs": [
    {
     "data": {
      "text/plain": [
       "array([[ 1,  2,  3,  4],\n",
       "       [ 5,  6,  7,  8],\n",
       "       [ 9, 10, 11, 12]])"
      ]
     },
     "execution_count": 98,
     "metadata": {},
     "output_type": "execute_result"
    }
   ],
   "source": [
    "a"
   ]
  },
  {
   "cell_type": "code",
   "execution_count": 102,
   "id": "a118349f-e5cf-45ac-a191-3556f76926f4",
   "metadata": {},
   "outputs": [
    {
     "data": {
      "image/png": "[encoded data removed]",
      "text/plain": [
       "<Figure size 640x480 with 1 Axes>"
      ]
     },
     "metadata": {},
     "output_type": "display_data"
    }
   ],
   "source": [
    "import numpy\n",
    "import matplotlib.pyplot as plt\n",
    "\n",
    "x = numpy.random.normal(5.0, 1.0, 100000)\n",
    "\n",
    "plt.hist(x, 100)\n",
    "plt.show()"
   ]
  },
  {
   "cell_type": "code",
   "execution_count": 103,
   "id": "1272b4b4-0f19-419b-bb6d-e5b0c5999305",
   "metadata": {},
   "outputs": [
    {
     "data": {
      "text/plain": [
       "array([12, 22, 33, 56, 78, 90, 91])"
      ]
     },
     "execution_count": 103,
     "metadata": {},
     "output_type": "execute_result"
    }
   ],
   "source": [
    "s = np.array([90,56,12,33,22,78,91])\n",
    "np.sort(s)"
   ]
  },
  {
   "cell_type": "code",
   "execution_count": 105,
   "id": "f4c9252c-62f4-49fa-9c7d-0bcfdedf527f",
   "metadata": {},
   "outputs": [
    {
     "data": {
      "text/plain": [
       "(array([6], dtype=int64),)"
      ]
     },
     "execution_count": 105,
     "metadata": {},
     "output_type": "execute_result"
    }
   ],
   "source": [
    "np.where(s==91)"
   ]
  },
  {
   "cell_type": "code",
   "execution_count": 106,
   "id": "bd473f29-86a8-4c5c-9682-28baa7cc1556",
   "metadata": {},
   "outputs": [
    {
     "data": {
      "text/plain": [
       "(array([0, 1, 5, 6], dtype=int64),)"
      ]
     },
     "execution_count": 106,
     "metadata": {},
     "output_type": "execute_result"
    }
   ],
   "source": [
    "np.where(s>50)"
   ]
  },
  {
   "cell_type": "code",
   "execution_count": 107,
   "id": "acda04de-1020-4cd4-8ed1-57cc0b1c83c3",
   "metadata": {},
   "outputs": [
    {
     "data": {
      "text/plain": [
       "(array([0, 1, 2, 3, 4, 5, 6], dtype=int64),)"
      ]
     },
     "execution_count": 107,
     "metadata": {},
     "output_type": "execute_result"
    }
   ],
   "source": [
    "np.where(s%50)"
   ]
  },
  {
   "cell_type": "code",
   "execution_count": 108,
   "id": "bad8c3e5-25c5-4fff-b9b5-3ba1c431b0d4",
   "metadata": {},
   "outputs": [
    {
     "name": "stdout",
     "output_type": "stream",
     "text": [
      "[90 56 12 33 22 78 91]\n",
      "[ 90 146 158 191 213 291 382]\n"
     ]
    }
   ],
   "source": [
    "print(s)\n",
    "print(np.cumsum(s))"
   ]
  },
  {
   "cell_type": "code",
   "execution_count": 111,
   "id": "8019fa3f-0e42-4e51-98e8-6c81cbc90ee1",
   "metadata": {},
   "outputs": [
    {
     "data": {
      "text/plain": [
       "array([[ 1,  2,  3,  4],\n",
       "       [ 6,  8, 10, 12],\n",
       "       [15, 18, 21, 24]])"
      ]
     },
     "execution_count": 111,
     "metadata": {},
     "output_type": "execute_result"
    }
   ],
   "source": [
    "np.cumsum(a,axis=0)"
   ]
  },
  {
   "cell_type": "code",
   "execution_count": 113,
   "id": "e9d45312-0858-44c1-bc7f-bf3a8d15ee3e",
   "metadata": {},
   "outputs": [
    {
     "data": {
      "text/plain": [
       "array([[ 1,  3,  6, 10],\n",
       "       [ 5, 11, 18, 26],\n",
       "       [ 9, 19, 30, 42]])"
      ]
     },
     "execution_count": 113,
     "metadata": {},
     "output_type": "execute_result"
    }
   ],
   "source": [
    "np.cumsum(a,axis=1)"
   ]
  },
  {
   "cell_type": "code",
   "execution_count": 116,
   "id": "9034fb5f-2414-4195-9cba-bd8f7dcce73e",
   "metadata": {},
   "outputs": [
    {
     "data": {
      "text/plain": [
       "array([[    1,     2,     6,    24],\n",
       "       [    5,    30,   210,  1680],\n",
       "       [    9,    90,   990, 11880]])"
      ]
     },
     "execution_count": 116,
     "metadata": {},
     "output_type": "execute_result"
    }
   ],
   "source": [
    "np.cumprod(a,axis=1)"
   ]
  },
  {
   "cell_type": "code",
   "execution_count": 119,
   "id": "4ca65c07-64f9-4f5e-9643-c43b739a1bb7",
   "metadata": {},
   "outputs": [],
   "source": [
    "from matplotlib import pyplot as plt"
   ]
  },
  {
   "cell_type": "code",
   "execution_count": 127,
   "id": "8468ebf8-ad4a-4016-9b55-c796a303e42a",
   "metadata": {},
   "outputs": [
    {
     "data": {
      "image/png": "[encoded data removed]",
      "text/plain": [
       "<Figure size 640x480 with 1 Axes>"
      ]
     },
     "metadata": {},
     "output_type": "display_data"
    }
   ],
   "source": [
    "x = [1, 2, 3, 4, 6]\n",
    "y = [23, 4, 67, 89, 7]\n",
    "plt.plot(x, y)\n",
    "plt.xlabel(\"X-axis Label\")\n",
    "plt.ylabel(\"Y-axis Label\")\n",
    "plt.title(\"Line Bar\")\n",
    "plt.show()\n"
   ]
  },
  {
   "cell_type": "code",
   "execution_count": 133,
   "id": "433c145a-7312-44d0-af9c-df8348c22df8",
   "metadata": {},
   "outputs": [
    {
     "data": {
      "image/png": "[encoded data removed]",
      "text/plain": [
       "<Figure size 640x480 with 1 Axes>"
      ]
     },
     "metadata": {},
     "output_type": "display_data"
    }
   ],
   "source": [
    "sub = ['Maths','Science','Geography']\n",
    "y = [34,98,78]\n",
    "plt.plot(sub, y, color = 'hotpink', linestyle = '--',linewidth=3,marker = 'H')\n",
    "plt.xlabel(\"X-axis Label\")\n",
    "plt.ylabel(\"Y-axis Label\")\n",
    "plt.title(\"Line Bar\")\n",
    "plt.show()"
   ]
  },
  {
   "cell_type": "code",
   "execution_count": 138,
   "id": "4ee74f5d-dc3a-4561-94cb-8ad728dc222b",
   "metadata": {},
   "outputs": [
    {
     "data": {
      "image/png": "[encoded data removed]",
      "text/plain": [
       "<Figure size 640x480 with 1 Axes>"
      ]
     },
     "metadata": {},
     "output_type": "display_data"
    }
   ],
   "source": [
    "\n",
    "\n",
    "sub = ['Maths','Science','Geography']\n",
    "y = [34,98,78]\n",
    "plt.plot(sub, y, color='hotpink', linestyle='--', linewidth=3, marker='h', markersize=10)\n",
    "plt.xlabel(\"X-axis Label\")\n",
    "plt.ylabel(\"Y-axis Label\")\n",
    "plt.title(\"Line Bar\")\n",
    "plt.show()"
   ]
  },
  {
   "cell_type": "code",
   "execution_count": 151,
   "id": "7a2b8aa5-3828-4dbd-bb2c-c91d37093e8f",
   "metadata": {},
   "outputs": [
    {
     "data": {
      "image/png": "[encoded data removed]",
      "text/plain": [
       "<Figure size 640x480 with 1 Axes>"
      ]
     },
     "metadata": {},
     "output_type": "display_data"
    }
   ],
   "source": [
    "sub = ['Maths', 'Science', 'Geography']\n",
    "student1 = [34, 98, 78]\n",
    "student2 = [67, 3, 82]\n",
    "plt.plot(sub, student1, color='g', linestyle='--', linewidth=3, marker='h', label=\"Hanu\")\n",
    "plt.plot(sub, student2, color='k', linestyle=':', linewidth=3, marker='p', label=\"Yashu\")\n",
    "plt.xlabel(\"Subjects\")\n",
    "plt.ylabel(\"Marks\")\n",
    "plt.title(\"Line Plot Comparing Student Marks\")\n",
    "plt.legend()\n",
    "plt.show()\n"
   ]
  },
  {
   "cell_type": "code",
   "execution_count": 154,
   "id": "3e6f87f6-5f3b-4a7a-bfe8-949fa79d0be7",
   "metadata": {},
   "outputs": [
    {
     "data": {
      "image/png": "[encoded data removed]",
      "text/plain": [
       "<Figure size 640x480 with 1 Axes>"
      ]
     },
     "metadata": {},
     "output_type": "display_data"
    }
   ],
   "source": [
    "sub = ['Maths', 'Science', 'Geography']\n",
    "student1 = [34, 98, 78]\n",
    "student2 = [67, 3, 82]\n",
    "bar_width = 0.35  \n",
    "bar_positions1 = range(len(sub))\n",
    "bar_positions2 = [pos + bar_width for pos in bar_positions1]\n",
    "\n",
    "plt.bar(bar_positions1, student1, width=bar_width, color='g', label=\"Hanu\")\n",
    "plt.bar(bar_positions2, student2, width=bar_width, color='k', label=\"Yashu\")\n",
    "\n",
    "plt.xlabel(\"Subjects\")\n",
    "plt.ylabel(\"Marks\")\n",
    "plt.title(\"Bar Chart Comparing Student Marks\")\n",
    "plt.xticks([pos + bar_width / 2 for pos in bar_positions1], sub)  \n",
    "plt.legend()\n",
    "plt.show()\n"
   ]
  },
  {
   "cell_type": "code",
   "execution_count": 156,
   "id": "3e799e5e-5810-41c2-bcfb-7ab3d1ad818c",
   "metadata": {},
   "outputs": [
    {
     "data": {
      "image/png": "[encoded data removed]",
      "text/plain": [
       "<Figure size 800x800 with 1 Axes>"
      ]
     },
     "metadata": {},
     "output_type": "display_data"
    }
   ],
   "source": [
    "labels = ['Maths', 'Science', 'Geography']\n",
    "student_marks = [34, 98, 78]\n",
    "plt.figure(figsize=(8, 8)) \n",
    "plt.pie(student_marks, labels=labels, autopct='%1.1f%%', startangle=90, colors=['skyblue', 'lightgreen', 'lightcoral'])\n",
    "plt.title(\"Distribution of Marks for Student 1\")\n",
    "plt.show()"
   ]
  },
  {
   "cell_type": "code",
   "execution_count": 159,
   "id": "36189b43-f076-4dc7-9ae8-3b06f9f6a5fc",
   "metadata": {},
   "outputs": [
    {
     "data": {
      "image/png": "[encoded data removed]",
      "text/plain": [
       "<Figure size 800x800 with 1 Axes>"
      ]
     },
     "metadata": {},
     "output_type": "display_data"
    }
   ],
   "source": [
    "labels = ['Maths', 'Science', 'Geography']\n",
    "student_marks = [34, 98, 78]\n",
    "explode_index = 1 \n",
    "explode = [0] * len(labels)\n",
    "explode[explode_index] = 0.1 \n",
    "plt.figure(figsize=(8, 8))\n",
    "plt.pie(student_marks, labels=labels, autopct='%1.1f%%', startangle=90, colors=['skyblue', 'lightgreen', 'lightcoral'], explode=explode)\n",
    "plt.title(\"Distribution of Marks for Student 1\")\n",
    "plt.show()\n"
   ]
  },
  {
   "cell_type": "code",
   "execution_count": 162,
   "id": "bcea1bb2-3e39-4122-b3d3-61164aa77bd3",
   "metadata": {},
   "outputs": [
    {
     "data": {
      "image/png": "[encoded data removed]",
      "text/plain": [
       "<Figure size 800x600 with 1 Axes>"
      ]
     },
     "metadata": {},
     "output_type": "display_data"
    }
   ],
   "source": [
    "x = [1, 2, 3, 4, 5]\n",
    "y = [10, 15, 20, 25, 30]\n",
    "plt.figure(figsize=(8, 6)) \n",
    "plt.scatter(x, y, color='blue', marker='o', s=100)\n",
    "plt.xlabel('X-axis Label')\n",
    "plt.ylabel('Y-axis Label')\n",
    "plt.title('Marks for Student')\n",
    "plt.show()"
   ]
  },
  {
   "cell_type": "markdown",
   "id": "f7a20e54-ade1-4206-b5a9-4dc818d98503",
   "metadata": {},
   "source": [
    "import matplotlib.pyplot as plt\r\n",
    "\r\n",
    "# Data\r\n",
    "india_runs = [25, 131, 160, 189, 220, 250, 267, 287]\r\n",
    "australia_runs = [15, 41, 94, 110, 151]\r\n",
    "\r\n",
    "# Creating x-axis values (overs)\r\n",
    "india_overs = list(range(5, 51, 5))\r\n",
    "australia_overs = list(range(5, 26, 5))\r\n",
    "\r\n",
    "# Creating the plot\r\n",
    "plt.figure(figsize=(10, 6))\r\n",
    "plt.plot(india_overs, india_runs, marker='o', label='India')\r\n",
    "plt.plot(australia_overs, australia_runs, marker='o', label='Australia')\r\n",
    "\r\n",
    "# Adding labels and title\r\n",
    "plt.xlabel('Overs')\r\n",
    "plt.ylabel('Runs')\r\n",
    "plt.title('India vs Australia: Runs Comparison')\r\n",
    "\r\n",
    "# Adding legend\r\n",
    "plt.legend()\r\n",
    "\r\n",
    "# Adding grid\r\n",
    "plt.grid(True, linestyle='--', alpha=0.7)\r\n",
    "\r\n",
    "# Show the plot\r\n",
    "plt.show()"
   ]
  },
  {
   "cell_type": "code",
   "execution_count": 170,
   "id": "c4cc09d9-ce51-4356-a065-31957d6a546b",
   "metadata": {},
   "outputs": [
    {
     "data": {
      "image/png": "[encoded data removed]",
      "text/plain": [
       "<Figure size 1000x600 with 1 Axes>"
      ]
     },
     "metadata": {},
     "output_type": "display_data"
    }
   ],
   "source": [
    "import matplotlib.pyplot as plt\n",
    "\n",
    "india_runs = [25, 131, 160, 189, 220, 250, 267, 287]\n",
    "australia_runs = [15, 41, 94, 110, 151]\n",
    "india_overs = list(range(5, 45, 5))\n",
    "australia_overs = list(range(5, 26, 5))\n",
    "plt.figure(figsize=(10, 6))\n",
    "plt.plot(india_overs, india_runs, marker='o', label='India')\n",
    "plt.plot(australia_overs, australia_runs, marker='o', label='Australia')\n",
    "\n",
    "# Adding labels and title\n",
    "plt.xlabel('Overs')\n",
    "plt.ylabel('Runs')\n",
    "plt.title('India vs Australia: Runs Comparison')\n",
    "\n",
    "# Adding legend\n",
    "plt.legend()\n",
    "\n",
    "# Adding grid\n",
    "plt.grid(True, linestyle='--', alpha=0.7)\n",
    "\n",
    "# Show the plot\n",
    "plt.show()"
   ]
  },
  {
   "cell_type": "code",
   "execution_count": 182,
   "id": "0a1f80c8-648e-4b25-b8b7-82892832ec32",
   "metadata": {},
   "outputs": [
    {
     "data": {
      "image/png": "[encoded data removed]",
      "text/plain": [
       "<Figure size 1000x600 with 1 Axes>"
      ]
     },
     "metadata": {},
     "output_type": "display_data"
    }
   ],
   "source": [
    "\n",
    "india_runs = [25, 51, 84, 131, 160, 189, 220, 250, 267, 287]\n",
    "australia_runs = [15, 41, 94, 110, 151]\n",
    "india_overs = list(range(5, 51, 5)) \n",
    "australia_overs = list(range(5, 26, 5))\n",
    "plt.figure(figsize=(10, 6))\n",
    "plt.plot(india_overs, india_runs, marker='o', label='India')\n",
    "plt.plot(australia_overs, australia_runs, marker='o', label='Australia')\n",
    "plt.xlabel('Overs')\n",
    "plt.ylabel('Runs')\n",
    "plt.title('India vs Australia')\n",
    "plt.legend()\n",
    "plt.grid(True, linestyle='--', alpha=0.7)\n",
    "plt.show()"
   ]
  },
  {
   "cell_type": "code",
   "execution_count": 64,
   "id": "feb4c206-fcf7-45e7-85c9-411fe200e377",
   "metadata": {},
   "outputs": [
    {
     "data": {
      "image/png": "[encoded data removed]",
      "text/plain": [
       "<Figure size 1000x600 with 1 Axes>"
      ]
     },
     "metadata": {},
     "output_type": "display_data"
    }
   ],
   "source": [
    "import matplotlib.pyplot as plt\n",
    "\n",
    "india_runs = [25, 51, 84, 131, 160, 189, 220, 250, 267, 287]\n",
    "australia_runs = [15, 41, 94, 110, 151, 54, 0, 56]  \n",
    "\n",
    "india_overs = list(range(5, 51, 5))\n",
    "australia_overs = list(range(5, 41, 5))  \n",
    "\n",
    "plt.figure(figsize=(10, 6))\n",
    "plt.plot(india_overs, india_runs, marker='o', label='India')\n",
    "plt.plot(australia_overs, australia_runs, marker='o', label='Australia')\n",
    "\n",
    "plt.xlabel('Overs')\n",
    "plt.ylabel('Runs')\n",
    "plt.title('India vs Australia: Runs Comparison')\n",
    "plt.legend()\n",
    "plt.grid(True, linestyle='--', alpha=0.7)\n",
    "\n",
    "\n",
    "last_known_over = australia_overs[4]\n",
    "last_known_score = australia_runs[4]\n",
    "plt.annotate(f'Last known score: {last_known_score}', \n",
    "             xy=(last_known_over, last_known_score), \n",
    "             xytext=(5, 10), textcoords='offset points')\n",
    "\n",
    "plt.show()"
   ]
  },
  {
   "cell_type": "code",
   "execution_count": 4,
   "id": "958fa7d2-3012-4887-b259-f84a2a10dd79",
   "metadata": {},
   "outputs": [],
   "source": [
    "import pandas as pd"
   ]
  },
  {
   "cell_type": "code",
   "execution_count": 5,
   "id": "f67396d6-f381-47bb-9809-703fb992fd6c",
   "metadata": {},
   "outputs": [],
   "source": [
    "val=['Hanu','Yashu','Rajesh','Lokesh']\n",
    "ind = [67,89,17,33]\n",
    "s = pd.Series(val,index=ind)"
   ]
  },
  {
   "cell_type": "code",
   "execution_count": 6,
   "id": "f5ef2b9a-6743-4184-9fbe-b908a9ea4448",
   "metadata": {},
   "outputs": [
    {
     "data": {
      "text/plain": [
       "67      Hanu\n",
       "89     Yashu\n",
       "17    Rajesh\n",
       "33    Lokesh\n",
       "dtype: object"
      ]
     },
     "execution_count": 6,
     "metadata": {},
     "output_type": "execute_result"
    }
   ],
   "source": [
    "s"
   ]
  },
  {
   "cell_type": "code",
   "execution_count": 18,
   "id": "583939a7-f190-42e3-88f7-0ea947e04fbd",
   "metadata": {},
   "outputs": [],
   "source": [
    "mypdf = pd.DataFrame(columns = ['Names','Marks','Grades'])"
   ]
  },
  {
   "cell_type": "code",
   "execution_count": 19,
   "id": "bd0d3a9d-aadc-47ed-8a4c-32fa2ba54769",
   "metadata": {},
   "outputs": [
    {
     "data": {
      "text/html": [
       "<div>\n",
       "<style scoped>\n",
       "    .dataframe tbody tr th:only-of-type {\n",
       "        vertical-align: middle;\n",
       "    }\n",
       "\n",
       "    .dataframe tbody tr th {\n",
       "        vertical-align: top;\n",
       "    }\n",
       "\n",
       "    .dataframe thead th {\n",
       "        text-align: right;\n",
       "    }\n",
       "</style>\n",
       "<table border=\"1\" class=\"dataframe\">\n",
       "  <thead>\n",
       "    <tr style=\"text-align: right;\">\n",
       "      <th></th>\n",
       "      <th>Names</th>\n",
       "      <th>Marks</th>\n",
       "      <th>Grades</th>\n",
       "    </tr>\n",
       "  </thead>\n",
       "  <tbody>\n",
       "  </tbody>\n",
       "</table>\n",
       "</div>"
      ],
      "text/plain": [
       "Empty DataFrame\n",
       "Columns: [Names, Marks, Grades]\n",
       "Index: []"
      ]
     },
     "execution_count": 19,
     "metadata": {},
     "output_type": "execute_result"
    }
   ],
   "source": [
    "mypdf"
   ]
  },
  {
   "cell_type": "code",
   "execution_count": 20,
   "id": "44a1ec92-ad2b-4bfd-8305-73646a558027",
   "metadata": {},
   "outputs": [],
   "source": [
    "n=['Hanumanthu','Yashu','Nagesh','Sanjay']\n",
    "m=['45','67','78','23']\n",
    "g=['A','A+','B','C']"
   ]
  },
  {
   "cell_type": "code",
   "execution_count": 21,
   "id": "2cdc5fc6-2fac-4142-8f3e-fc03d710619a",
   "metadata": {},
   "outputs": [],
   "source": [
    "mypdf.Names=n"
   ]
  },
  {
   "cell_type": "code",
   "execution_count": 22,
   "id": "21e9681f-c884-475a-8774-4e2ad6a2c43c",
   "metadata": {},
   "outputs": [],
   "source": [
    "mypdf.Marks=m\n",
    "mypdf.Grades=g"
   ]
  },
  {
   "cell_type": "code",
   "execution_count": 23,
   "id": "a6dbb987-1966-40f3-9fae-330ab65274fd",
   "metadata": {},
   "outputs": [
    {
     "data": {
      "text/html": [
       "<div>\n",
       "<style scoped>\n",
       "    .dataframe tbody tr th:only-of-type {\n",
       "        vertical-align: middle;\n",
       "    }\n",
       "\n",
       "    .dataframe tbody tr th {\n",
       "        vertical-align: top;\n",
       "    }\n",
       "\n",
       "    .dataframe thead th {\n",
       "        text-align: right;\n",
       "    }\n",
       "</style>\n",
       "<table border=\"1\" class=\"dataframe\">\n",
       "  <thead>\n",
       "    <tr style=\"text-align: right;\">\n",
       "      <th></th>\n",
       "      <th>Names</th>\n",
       "      <th>Marks</th>\n",
       "      <th>Grades</th>\n",
       "    </tr>\n",
       "  </thead>\n",
       "  <tbody>\n",
       "    <tr>\n",
       "      <th>0</th>\n",
       "      <td>Hanumanthu</td>\n",
       "      <td>45</td>\n",
       "      <td>A</td>\n",
       "    </tr>\n",
       "    <tr>\n",
       "      <th>1</th>\n",
       "      <td>Yashu</td>\n",
       "      <td>67</td>\n",
       "      <td>A+</td>\n",
       "    </tr>\n",
       "    <tr>\n",
       "      <th>2</th>\n",
       "      <td>Nagesh</td>\n",
       "      <td>78</td>\n",
       "      <td>B</td>\n",
       "    </tr>\n",
       "    <tr>\n",
       "      <th>3</th>\n",
       "      <td>Sanjay</td>\n",
       "      <td>23</td>\n",
       "      <td>C</td>\n",
       "    </tr>\n",
       "  </tbody>\n",
       "</table>\n",
       "</div>"
      ],
      "text/plain": [
       "        Names Marks Grades\n",
       "0  Hanumanthu    45      A\n",
       "1       Yashu    67     A+\n",
       "2      Nagesh    78      B\n",
       "3      Sanjay    23      C"
      ]
     },
     "execution_count": 23,
     "metadata": {},
     "output_type": "execute_result"
    }
   ],
   "source": [
    "mypdf"
   ]
  },
  {
   "cell_type": "code",
   "execution_count": 24,
   "id": "27c779c0-0e48-4b32-b614-f64f5d79c86e",
   "metadata": {},
   "outputs": [],
   "source": [
    "mypdf.to_csv('demo.csv')"
   ]
  },
  {
   "cell_type": "code",
   "execution_count": 32,
   "id": "15783b84-a9d7-474b-b09f-803ae9cfa882",
   "metadata": {},
   "outputs": [
    {
     "data": {
      "text/html": [
       "<div>\n",
       "<style scoped>\n",
       "    .dataframe tbody tr th:only-of-type {\n",
       "        vertical-align: middle;\n",
       "    }\n",
       "\n",
       "    .dataframe tbody tr th {\n",
       "        vertical-align: top;\n",
       "    }\n",
       "\n",
       "    .dataframe thead th {\n",
       "        text-align: right;\n",
       "    }\n",
       "</style>\n",
       "<table border=\"1\" class=\"dataframe\">\n",
       "  <thead>\n",
       "    <tr style=\"text-align: right;\">\n",
       "      <th></th>\n",
       "      <th>Unnamed: 0</th>\n",
       "      <th>Names</th>\n",
       "      <th>Marks</th>\n",
       "      <th>Grades</th>\n",
       "    </tr>\n",
       "  </thead>\n",
       "  <tbody>\n",
       "    <tr>\n",
       "      <th>0</th>\n",
       "      <td>0</td>\n",
       "      <td>Hanumanthu</td>\n",
       "      <td>45</td>\n",
       "      <td>A</td>\n",
       "    </tr>\n",
       "    <tr>\n",
       "      <th>1</th>\n",
       "      <td>1</td>\n",
       "      <td>Yashu</td>\n",
       "      <td>67</td>\n",
       "      <td>A+</td>\n",
       "    </tr>\n",
       "    <tr>\n",
       "      <th>2</th>\n",
       "      <td>2</td>\n",
       "      <td>Nagesh</td>\n",
       "      <td>78</td>\n",
       "      <td>B</td>\n",
       "    </tr>\n",
       "    <tr>\n",
       "      <th>3</th>\n",
       "      <td>3</td>\n",
       "      <td>Sanjay</td>\n",
       "      <td>23</td>\n",
       "      <td>C</td>\n",
       "    </tr>\n",
       "  </tbody>\n",
       "</table>\n",
       "</div>"
      ],
      "text/plain": [
       "   Unnamed: 0       Names  Marks Grades\n",
       "0           0  Hanumanthu     45      A\n",
       "1           1       Yashu     67     A+\n",
       "2           2      Nagesh     78      B\n",
       "3           3      Sanjay     23      C"
      ]
     },
     "execution_count": 32,
     "metadata": {},
     "output_type": "execute_result"
    }
   ],
   "source": [
    "dfcsv"
   ]
  },
  {
   "cell_type": "code",
   "execution_count": 47,
   "id": "d767b540-d8e6-4981-8f62-608f8b134c5f",
   "metadata": {},
   "outputs": [
    {
     "data": {
      "text/html": [
       "<div>\n",
       "<style scoped>\n",
       "    .dataframe tbody tr th:only-of-type {\n",
       "        vertical-align: middle;\n",
       "    }\n",
       "\n",
       "    .dataframe tbody tr th {\n",
       "        vertical-align: top;\n",
       "    }\n",
       "\n",
       "    .dataframe thead th {\n",
       "        text-align: right;\n",
       "    }\n",
       "</style>\n",
       "<table border=\"1\" class=\"dataframe\">\n",
       "  <thead>\n",
       "    <tr style=\"text-align: right;\">\n",
       "      <th></th>\n",
       "      <th>C1</th>\n",
       "      <th>C2</th>\n",
       "      <th>C3</th>\n",
       "      <th>C4</th>\n",
       "    </tr>\n",
       "  </thead>\n",
       "  <tbody>\n",
       "    <tr>\n",
       "      <th>count</th>\n",
       "      <td>5.000000</td>\n",
       "      <td>5.000000</td>\n",
       "      <td>5.000000</td>\n",
       "      <td>5.000000</td>\n",
       "    </tr>\n",
       "    <tr>\n",
       "      <th>mean</th>\n",
       "      <td>74.800000</td>\n",
       "      <td>78.600000</td>\n",
       "      <td>53.800000</td>\n",
       "      <td>0.400000</td>\n",
       "    </tr>\n",
       "    <tr>\n",
       "      <th>std</th>\n",
       "      <td>15.023315</td>\n",
       "      <td>9.343447</td>\n",
       "      <td>5.403702</td>\n",
       "      <td>0.547723</td>\n",
       "    </tr>\n",
       "    <tr>\n",
       "      <th>min</th>\n",
       "      <td>56.000000</td>\n",
       "      <td>67.000000</td>\n",
       "      <td>48.000000</td>\n",
       "      <td>0.000000</td>\n",
       "    </tr>\n",
       "    <tr>\n",
       "      <th>25%</th>\n",
       "      <td>63.000000</td>\n",
       "      <td>72.000000</td>\n",
       "      <td>50.000000</td>\n",
       "      <td>0.000000</td>\n",
       "    </tr>\n",
       "    <tr>\n",
       "      <th>50%</th>\n",
       "      <td>78.000000</td>\n",
       "      <td>79.000000</td>\n",
       "      <td>54.000000</td>\n",
       "      <td>0.000000</td>\n",
       "    </tr>\n",
       "    <tr>\n",
       "      <th>75%</th>\n",
       "      <td>85.000000</td>\n",
       "      <td>85.000000</td>\n",
       "      <td>55.000000</td>\n",
       "      <td>1.000000</td>\n",
       "    </tr>\n",
       "    <tr>\n",
       "      <th>max</th>\n",
       "      <td>92.000000</td>\n",
       "      <td>90.000000</td>\n",
       "      <td>62.000000</td>\n",
       "      <td>1.000000</td>\n",
       "    </tr>\n",
       "  </tbody>\n",
       "</table>\n",
       "</div>"
      ],
      "text/plain": [
       "              C1         C2         C3        C4\n",
       "count   5.000000   5.000000   5.000000  5.000000\n",
       "mean   74.800000  78.600000  53.800000  0.400000\n",
       "std    15.023315   9.343447   5.403702  0.547723\n",
       "min    56.000000  67.000000  48.000000  0.000000\n",
       "25%    63.000000  72.000000  50.000000  0.000000\n",
       "50%    78.000000  79.000000  54.000000  0.000000\n",
       "75%    85.000000  85.000000  55.000000  1.000000\n",
       "max    92.000000  90.000000  62.000000  1.000000"
      ]
     },
     "execution_count": 47,
     "metadata": {},
     "output_type": "execute_result"
    }
   ],
   "source": [
    "dfcsv.describe()"
   ]
  },
  {
   "cell_type": "code",
   "execution_count": 36,
   "id": "a1c5bdf0-1dfb-436a-bbf3-4412e34f9bad",
   "metadata": {},
   "outputs": [],
   "source": [
    "dftxt = pd.read_csv('onlynum.txt')"
   ]
  },
  {
   "cell_type": "code",
   "execution_count": 37,
   "id": "42ee91a0-bf66-4cda-9678-312a6ec5e926",
   "metadata": {},
   "outputs": [
    {
     "data": {
      "text/html": [
       "<div>\n",
       "<style scoped>\n",
       "    .dataframe tbody tr th:only-of-type {\n",
       "        vertical-align: middle;\n",
       "    }\n",
       "\n",
       "    .dataframe tbody tr th {\n",
       "        vertical-align: top;\n",
       "    }\n",
       "\n",
       "    .dataframe thead th {\n",
       "        text-align: right;\n",
       "    }\n",
       "</style>\n",
       "<table border=\"1\" class=\"dataframe\">\n",
       "  <thead>\n",
       "    <tr style=\"text-align: right;\">\n",
       "      <th></th>\n",
       "      <th>C1</th>\n",
       "      <th>C2</th>\n",
       "      <th>C3</th>\n",
       "      <th>C4</th>\n",
       "    </tr>\n",
       "  </thead>\n",
       "  <tbody>\n",
       "    <tr>\n",
       "      <th>0</th>\n",
       "      <td>92</td>\n",
       "      <td>90</td>\n",
       "      <td>54</td>\n",
       "      <td>0</td>\n",
       "    </tr>\n",
       "    <tr>\n",
       "      <th>1</th>\n",
       "      <td>56</td>\n",
       "      <td>67</td>\n",
       "      <td>50</td>\n",
       "      <td>1</td>\n",
       "    </tr>\n",
       "    <tr>\n",
       "      <th>2</th>\n",
       "      <td>78</td>\n",
       "      <td>85</td>\n",
       "      <td>62</td>\n",
       "      <td>0</td>\n",
       "    </tr>\n",
       "    <tr>\n",
       "      <th>3</th>\n",
       "      <td>63</td>\n",
       "      <td>72</td>\n",
       "      <td>48</td>\n",
       "      <td>1</td>\n",
       "    </tr>\n",
       "    <tr>\n",
       "      <th>4</th>\n",
       "      <td>85</td>\n",
       "      <td>79</td>\n",
       "      <td>55</td>\n",
       "      <td>0</td>\n",
       "    </tr>\n",
       "  </tbody>\n",
       "</table>\n",
       "</div>"
      ],
      "text/plain": [
       "   C1  C2  C3  C4\n",
       "0  92  90  54   0\n",
       "1  56  67  50   1\n",
       "2  78  85  62   0\n",
       "3  63  72  48   1\n",
       "4  85  79  55   0"
      ]
     },
     "execution_count": 37,
     "metadata": {},
     "output_type": "execute_result"
    }
   ],
   "source": [
    "dftxt"
   ]
  },
  {
   "cell_type": "code",
   "execution_count": 45,
   "id": "86d10433-e7ad-4b02-8725-4e585afcf9da",
   "metadata": {},
   "outputs": [
    {
     "data": {
      "text/html": [
       "<div>\n",
       "<style scoped>\n",
       "    .dataframe tbody tr th:only-of-type {\n",
       "        vertical-align: middle;\n",
       "    }\n",
       "\n",
       "    .dataframe tbody tr th {\n",
       "        vertical-align: top;\n",
       "    }\n",
       "\n",
       "    .dataframe thead th {\n",
       "        text-align: right;\n",
       "    }\n",
       "</style>\n",
       "<table border=\"1\" class=\"dataframe\">\n",
       "  <thead>\n",
       "    <tr style=\"text-align: right;\">\n",
       "      <th></th>\n",
       "      <th>C1</th>\n",
       "      <th>C2</th>\n",
       "      <th>C3</th>\n",
       "      <th>C4</th>\n",
       "    </tr>\n",
       "  </thead>\n",
       "  <tbody>\n",
       "    <tr>\n",
       "      <th>count</th>\n",
       "      <td>5.000000</td>\n",
       "      <td>5.000000</td>\n",
       "      <td>5.000000</td>\n",
       "      <td>5.000000</td>\n",
       "    </tr>\n",
       "    <tr>\n",
       "      <th>mean</th>\n",
       "      <td>74.800000</td>\n",
       "      <td>78.600000</td>\n",
       "      <td>53.800000</td>\n",
       "      <td>0.400000</td>\n",
       "    </tr>\n",
       "    <tr>\n",
       "      <th>std</th>\n",
       "      <td>15.023315</td>\n",
       "      <td>9.343447</td>\n",
       "      <td>5.403702</td>\n",
       "      <td>0.547723</td>\n",
       "    </tr>\n",
       "    <tr>\n",
       "      <th>min</th>\n",
       "      <td>56.000000</td>\n",
       "      <td>67.000000</td>\n",
       "      <td>48.000000</td>\n",
       "      <td>0.000000</td>\n",
       "    </tr>\n",
       "    <tr>\n",
       "      <th>25%</th>\n",
       "      <td>63.000000</td>\n",
       "      <td>72.000000</td>\n",
       "      <td>50.000000</td>\n",
       "      <td>0.000000</td>\n",
       "    </tr>\n",
       "    <tr>\n",
       "      <th>50%</th>\n",
       "      <td>78.000000</td>\n",
       "      <td>79.000000</td>\n",
       "      <td>54.000000</td>\n",
       "      <td>0.000000</td>\n",
       "    </tr>\n",
       "    <tr>\n",
       "      <th>75%</th>\n",
       "      <td>85.000000</td>\n",
       "      <td>85.000000</td>\n",
       "      <td>55.000000</td>\n",
       "      <td>1.000000</td>\n",
       "    </tr>\n",
       "    <tr>\n",
       "      <th>max</th>\n",
       "      <td>92.000000</td>\n",
       "      <td>90.000000</td>\n",
       "      <td>62.000000</td>\n",
       "      <td>1.000000</td>\n",
       "    </tr>\n",
       "  </tbody>\n",
       "</table>\n",
       "</div>"
      ],
      "text/plain": [
       "              C1         C2         C3        C4\n",
       "count   5.000000   5.000000   5.000000  5.000000\n",
       "mean   74.800000  78.600000  53.800000  0.400000\n",
       "std    15.023315   9.343447   5.403702  0.547723\n",
       "min    56.000000  67.000000  48.000000  0.000000\n",
       "25%    63.000000  72.000000  50.000000  0.000000\n",
       "50%    78.000000  79.000000  54.000000  0.000000\n",
       "75%    85.000000  85.000000  55.000000  1.000000\n",
       "max    92.000000  90.000000  62.000000  1.000000"
      ]
     },
     "execution_count": 45,
     "metadata": {},
     "output_type": "execute_result"
    }
   ],
   "source": [
    "dftxt.describe()"
   ]
  },
  {
   "cell_type": "code",
   "execution_count": 42,
   "id": "ce82e0a1-ae9d-4a64-a306-c2634247773f",
   "metadata": {},
   "outputs": [],
   "source": [
    "dfexecel = pd.read_excel('diabetes.xlsx')"
   ]
  },
  {
   "cell_type": "code",
   "execution_count": 44,
   "id": "a0d6b7f0-c056-4c75-9232-d214c8b0c47c",
   "metadata": {},
   "outputs": [
    {
     "data": {
      "text/html": [
       "<div>\n",
       "<style scoped>\n",
       "    .dataframe tbody tr th:only-of-type {\n",
       "        vertical-align: middle;\n",
       "    }\n",
       "\n",
       "    .dataframe tbody tr th {\n",
       "        vertical-align: top;\n",
       "    }\n",
       "\n",
       "    .dataframe thead th {\n",
       "        text-align: right;\n",
       "    }\n",
       "</style>\n",
       "<table border=\"1\" class=\"dataframe\">\n",
       "  <thead>\n",
       "    <tr style=\"text-align: right;\">\n",
       "      <th></th>\n",
       "      <th>preg</th>\n",
       "      <th>plas</th>\n",
       "      <th>pres</th>\n",
       "      <th>skin</th>\n",
       "      <th>insu</th>\n",
       "      <th>mass</th>\n",
       "      <th>pedi</th>\n",
       "      <th>age</th>\n",
       "      <th>class</th>\n",
       "    </tr>\n",
       "  </thead>\n",
       "  <tbody>\n",
       "    <tr>\n",
       "      <th>0</th>\n",
       "      <td>6</td>\n",
       "      <td>148</td>\n",
       "      <td>72</td>\n",
       "      <td>35</td>\n",
       "      <td>0</td>\n",
       "      <td>33.6</td>\n",
       "      <td>0.627</td>\n",
       "      <td>50</td>\n",
       "      <td>tested_positive</td>\n",
       "    </tr>\n",
       "    <tr>\n",
       "      <th>1</th>\n",
       "      <td>1</td>\n",
       "      <td>85</td>\n",
       "      <td>66</td>\n",
       "      <td>29</td>\n",
       "      <td>0</td>\n",
       "      <td>26.6</td>\n",
       "      <td>0.351</td>\n",
       "      <td>31</td>\n",
       "      <td>tested_negative</td>\n",
       "    </tr>\n",
       "    <tr>\n",
       "      <th>2</th>\n",
       "      <td>8</td>\n",
       "      <td>183</td>\n",
       "      <td>64</td>\n",
       "      <td>0</td>\n",
       "      <td>0</td>\n",
       "      <td>23.3</td>\n",
       "      <td>0.672</td>\n",
       "      <td>32</td>\n",
       "      <td>tested_positive</td>\n",
       "    </tr>\n",
       "    <tr>\n",
       "      <th>3</th>\n",
       "      <td>1</td>\n",
       "      <td>89</td>\n",
       "      <td>66</td>\n",
       "      <td>23</td>\n",
       "      <td>94</td>\n",
       "      <td>28.1</td>\n",
       "      <td>0.167</td>\n",
       "      <td>21</td>\n",
       "      <td>tested_negative</td>\n",
       "    </tr>\n",
       "    <tr>\n",
       "      <th>4</th>\n",
       "      <td>0</td>\n",
       "      <td>137</td>\n",
       "      <td>40</td>\n",
       "      <td>35</td>\n",
       "      <td>168</td>\n",
       "      <td>43.1</td>\n",
       "      <td>2.288</td>\n",
       "      <td>33</td>\n",
       "      <td>tested_positive</td>\n",
       "    </tr>\n",
       "    <tr>\n",
       "      <th>...</th>\n",
       "      <td>...</td>\n",
       "      <td>...</td>\n",
       "      <td>...</td>\n",
       "      <td>...</td>\n",
       "      <td>...</td>\n",
       "      <td>...</td>\n",
       "      <td>...</td>\n",
       "      <td>...</td>\n",
       "      <td>...</td>\n",
       "    </tr>\n",
       "    <tr>\n",
       "      <th>763</th>\n",
       "      <td>10</td>\n",
       "      <td>101</td>\n",
       "      <td>76</td>\n",
       "      <td>48</td>\n",
       "      <td>180</td>\n",
       "      <td>32.9</td>\n",
       "      <td>0.171</td>\n",
       "      <td>63</td>\n",
       "      <td>tested_negative</td>\n",
       "    </tr>\n",
       "    <tr>\n",
       "      <th>764</th>\n",
       "      <td>2</td>\n",
       "      <td>122</td>\n",
       "      <td>70</td>\n",
       "      <td>27</td>\n",
       "      <td>0</td>\n",
       "      <td>36.8</td>\n",
       "      <td>0.340</td>\n",
       "      <td>27</td>\n",
       "      <td>tested_negative</td>\n",
       "    </tr>\n",
       "    <tr>\n",
       "      <th>765</th>\n",
       "      <td>5</td>\n",
       "      <td>121</td>\n",
       "      <td>72</td>\n",
       "      <td>23</td>\n",
       "      <td>112</td>\n",
       "      <td>26.2</td>\n",
       "      <td>0.245</td>\n",
       "      <td>30</td>\n",
       "      <td>tested_negative</td>\n",
       "    </tr>\n",
       "    <tr>\n",
       "      <th>766</th>\n",
       "      <td>1</td>\n",
       "      <td>126</td>\n",
       "      <td>60</td>\n",
       "      <td>0</td>\n",
       "      <td>0</td>\n",
       "      <td>30.1</td>\n",
       "      <td>0.349</td>\n",
       "      <td>47</td>\n",
       "      <td>tested_positive</td>\n",
       "    </tr>\n",
       "    <tr>\n",
       "      <th>767</th>\n",
       "      <td>1</td>\n",
       "      <td>93</td>\n",
       "      <td>70</td>\n",
       "      <td>31</td>\n",
       "      <td>0</td>\n",
       "      <td>30.4</td>\n",
       "      <td>0.315</td>\n",
       "      <td>23</td>\n",
       "      <td>tested_negative</td>\n",
       "    </tr>\n",
       "  </tbody>\n",
       "</table>\n",
       "<p>768 rows × 9 columns</p>\n",
       "</div>"
      ],
      "text/plain": [
       "     preg  plas  pres  skin  insu  mass   pedi  age            class\n",
       "0       6   148    72    35     0  33.6  0.627   50  tested_positive\n",
       "1       1    85    66    29     0  26.6  0.351   31  tested_negative\n",
       "2       8   183    64     0     0  23.3  0.672   32  tested_positive\n",
       "3       1    89    66    23    94  28.1  0.167   21  tested_negative\n",
       "4       0   137    40    35   168  43.1  2.288   33  tested_positive\n",
       "..    ...   ...   ...   ...   ...   ...    ...  ...              ...\n",
       "763    10   101    76    48   180  32.9  0.171   63  tested_negative\n",
       "764     2   122    70    27     0  36.8  0.340   27  tested_negative\n",
       "765     5   121    72    23   112  26.2  0.245   30  tested_negative\n",
       "766     1   126    60     0     0  30.1  0.349   47  tested_positive\n",
       "767     1    93    70    31     0  30.4  0.315   23  tested_negative\n",
       "\n",
       "[768 rows x 9 columns]"
      ]
     },
     "execution_count": 44,
     "metadata": {},
     "output_type": "execute_result"
    }
   ],
   "source": [
    "dfexecel"
   ]
  },
  {
   "cell_type": "code",
   "execution_count": 46,
   "id": "c0d448fd-cb41-40c3-9671-91c37bf04f23",
   "metadata": {},
   "outputs": [
    {
     "data": {
      "text/html": [
       "<div>\n",
       "<style scoped>\n",
       "    .dataframe tbody tr th:only-of-type {\n",
       "        vertical-align: middle;\n",
       "    }\n",
       "\n",
       "    .dataframe tbody tr th {\n",
       "        vertical-align: top;\n",
       "    }\n",
       "\n",
       "    .dataframe thead th {\n",
       "        text-align: right;\n",
       "    }\n",
       "</style>\n",
       "<table border=\"1\" class=\"dataframe\">\n",
       "  <thead>\n",
       "    <tr style=\"text-align: right;\">\n",
       "      <th></th>\n",
       "      <th>preg</th>\n",
       "      <th>plas</th>\n",
       "      <th>pres</th>\n",
       "      <th>skin</th>\n",
       "      <th>insu</th>\n",
       "      <th>mass</th>\n",
       "      <th>pedi</th>\n",
       "      <th>age</th>\n",
       "    </tr>\n",
       "  </thead>\n",
       "  <tbody>\n",
       "    <tr>\n",
       "      <th>count</th>\n",
       "      <td>768.000000</td>\n",
       "      <td>768.000000</td>\n",
       "      <td>768.000000</td>\n",
       "      <td>768.000000</td>\n",
       "      <td>768.000000</td>\n",
       "      <td>768.000000</td>\n",
       "      <td>768.000000</td>\n",
       "      <td>768.000000</td>\n",
       "    </tr>\n",
       "    <tr>\n",
       "      <th>mean</th>\n",
       "      <td>3.845052</td>\n",
       "      <td>120.894531</td>\n",
       "      <td>69.105469</td>\n",
       "      <td>20.536458</td>\n",
       "      <td>79.799479</td>\n",
       "      <td>31.992578</td>\n",
       "      <td>0.471876</td>\n",
       "      <td>33.240885</td>\n",
       "    </tr>\n",
       "    <tr>\n",
       "      <th>std</th>\n",
       "      <td>3.369578</td>\n",
       "      <td>31.972618</td>\n",
       "      <td>19.355807</td>\n",
       "      <td>15.952218</td>\n",
       "      <td>115.244002</td>\n",
       "      <td>7.884160</td>\n",
       "      <td>0.331329</td>\n",
       "      <td>11.760232</td>\n",
       "    </tr>\n",
       "    <tr>\n",
       "      <th>min</th>\n",
       "      <td>0.000000</td>\n",
       "      <td>0.000000</td>\n",
       "      <td>0.000000</td>\n",
       "      <td>0.000000</td>\n",
       "      <td>0.000000</td>\n",
       "      <td>0.000000</td>\n",
       "      <td>0.078000</td>\n",
       "      <td>21.000000</td>\n",
       "    </tr>\n",
       "    <tr>\n",
       "      <th>25%</th>\n",
       "      <td>1.000000</td>\n",
       "      <td>99.000000</td>\n",
       "      <td>62.000000</td>\n",
       "      <td>0.000000</td>\n",
       "      <td>0.000000</td>\n",
       "      <td>27.300000</td>\n",
       "      <td>0.243750</td>\n",
       "      <td>24.000000</td>\n",
       "    </tr>\n",
       "    <tr>\n",
       "      <th>50%</th>\n",
       "      <td>3.000000</td>\n",
       "      <td>117.000000</td>\n",
       "      <td>72.000000</td>\n",
       "      <td>23.000000</td>\n",
       "      <td>30.500000</td>\n",
       "      <td>32.000000</td>\n",
       "      <td>0.372500</td>\n",
       "      <td>29.000000</td>\n",
       "    </tr>\n",
       "    <tr>\n",
       "      <th>75%</th>\n",
       "      <td>6.000000</td>\n",
       "      <td>140.250000</td>\n",
       "      <td>80.000000</td>\n",
       "      <td>32.000000</td>\n",
       "      <td>127.250000</td>\n",
       "      <td>36.600000</td>\n",
       "      <td>0.626250</td>\n",
       "      <td>41.000000</td>\n",
       "    </tr>\n",
       "    <tr>\n",
       "      <th>max</th>\n",
       "      <td>17.000000</td>\n",
       "      <td>199.000000</td>\n",
       "      <td>122.000000</td>\n",
       "      <td>99.000000</td>\n",
       "      <td>846.000000</td>\n",
       "      <td>67.100000</td>\n",
       "      <td>2.420000</td>\n",
       "      <td>81.000000</td>\n",
       "    </tr>\n",
       "  </tbody>\n",
       "</table>\n",
       "</div>"
      ],
      "text/plain": [
       "             preg        plas        pres        skin        insu        mass  \\\n",
       "count  768.000000  768.000000  768.000000  768.000000  768.000000  768.000000   \n",
       "mean     3.845052  120.894531   69.105469   20.536458   79.799479   31.992578   \n",
       "std      3.369578   31.972618   19.355807   15.952218  115.244002    7.884160   \n",
       "min      0.000000    0.000000    0.000000    0.000000    0.000000    0.000000   \n",
       "25%      1.000000   99.000000   62.000000    0.000000    0.000000   27.300000   \n",
       "50%      3.000000  117.000000   72.000000   23.000000   30.500000   32.000000   \n",
       "75%      6.000000  140.250000   80.000000   32.000000  127.250000   36.600000   \n",
       "max     17.000000  199.000000  122.000000   99.000000  846.000000   67.100000   \n",
       "\n",
       "             pedi         age  \n",
       "count  768.000000  768.000000  \n",
       "mean     0.471876   33.240885  \n",
       "std      0.331329   11.760232  \n",
       "min      0.078000   21.000000  \n",
       "25%      0.243750   24.000000  \n",
       "50%      0.372500   29.000000  \n",
       "75%      0.626250   41.000000  \n",
       "max      2.420000   81.000000  "
      ]
     },
     "execution_count": 46,
     "metadata": {},
     "output_type": "execute_result"
    }
   ],
   "source": [
    "dfexecel.describe()"
   ]
  },
  {
   "cell_type": "code",
   "execution_count": 51,
   "id": "1c4f6a51-7cf4-4089-978a-2455484c8584",
   "metadata": {},
   "outputs": [],
   "source": [
    "demodf = pd.read_csv('grades_withnulls.csv')"
   ]
  },
  {
   "cell_type": "code",
   "execution_count": 52,
   "id": "f73bd097-dcee-48e1-a7a0-241e95895e55",
   "metadata": {},
   "outputs": [
    {
     "data": {
      "text/html": [
       "<div>\n",
       "<style scoped>\n",
       "    .dataframe tbody tr th:only-of-type {\n",
       "        vertical-align: middle;\n",
       "    }\n",
       "\n",
       "    .dataframe tbody tr th {\n",
       "        vertical-align: top;\n",
       "    }\n",
       "\n",
       "    .dataframe thead th {\n",
       "        text-align: right;\n",
       "    }\n",
       "</style>\n",
       "<table border=\"1\" class=\"dataframe\">\n",
       "  <thead>\n",
       "    <tr style=\"text-align: right;\">\n",
       "      <th></th>\n",
       "      <th>Names</th>\n",
       "      <th>Initials</th>\n",
       "      <th>SEM1</th>\n",
       "      <th>SEM2</th>\n",
       "      <th>SEM3</th>\n",
       "      <th>Grade</th>\n",
       "      <th>Placed</th>\n",
       "    </tr>\n",
       "  </thead>\n",
       "  <tbody>\n",
       "    <tr>\n",
       "      <th>0</th>\n",
       "      <td>Joe</td>\n",
       "      <td>K</td>\n",
       "      <td>9.8</td>\n",
       "      <td>10.0</td>\n",
       "      <td>9.9</td>\n",
       "      <td>A+</td>\n",
       "      <td>1</td>\n",
       "    </tr>\n",
       "    <tr>\n",
       "      <th>1</th>\n",
       "      <td>Rajesh</td>\n",
       "      <td>M</td>\n",
       "      <td>8.9</td>\n",
       "      <td>9.1</td>\n",
       "      <td>9.3</td>\n",
       "      <td>A</td>\n",
       "      <td>1</td>\n",
       "    </tr>\n",
       "    <tr>\n",
       "      <th>2</th>\n",
       "      <td>Kissan</td>\n",
       "      <td>V</td>\n",
       "      <td>9.9</td>\n",
       "      <td>9.8</td>\n",
       "      <td>10.0</td>\n",
       "      <td>A</td>\n",
       "      <td>0</td>\n",
       "    </tr>\n",
       "    <tr>\n",
       "      <th>3</th>\n",
       "      <td>Mary</td>\n",
       "      <td>N</td>\n",
       "      <td>7.7</td>\n",
       "      <td>8.0</td>\n",
       "      <td>NaN</td>\n",
       "      <td>B</td>\n",
       "      <td>0</td>\n",
       "    </tr>\n",
       "    <tr>\n",
       "      <th>4</th>\n",
       "      <td>Jeen</td>\n",
       "      <td>K</td>\n",
       "      <td>9.8</td>\n",
       "      <td>9.1</td>\n",
       "      <td>9.9</td>\n",
       "      <td>A+</td>\n",
       "      <td>1</td>\n",
       "    </tr>\n",
       "    <tr>\n",
       "      <th>5</th>\n",
       "      <td>Raj</td>\n",
       "      <td>M</td>\n",
       "      <td>8.9</td>\n",
       "      <td>9.1</td>\n",
       "      <td>9.3</td>\n",
       "      <td>A</td>\n",
       "      <td>1</td>\n",
       "    </tr>\n",
       "    <tr>\n",
       "      <th>6</th>\n",
       "      <td>Hassan</td>\n",
       "      <td>V</td>\n",
       "      <td>9.9</td>\n",
       "      <td>9.0</td>\n",
       "      <td>9.2</td>\n",
       "      <td>A</td>\n",
       "      <td>1</td>\n",
       "    </tr>\n",
       "    <tr>\n",
       "      <th>7</th>\n",
       "      <td>Mari</td>\n",
       "      <td>N</td>\n",
       "      <td>7.7</td>\n",
       "      <td>8.0</td>\n",
       "      <td>7.1</td>\n",
       "      <td>B</td>\n",
       "      <td>1</td>\n",
       "    </tr>\n",
       "    <tr>\n",
       "      <th>8</th>\n",
       "      <td>Jess</td>\n",
       "      <td>K</td>\n",
       "      <td>NaN</td>\n",
       "      <td>9.1</td>\n",
       "      <td>9.9</td>\n",
       "      <td>A+</td>\n",
       "      <td>1</td>\n",
       "    </tr>\n",
       "    <tr>\n",
       "      <th>9</th>\n",
       "      <td>Rajini</td>\n",
       "      <td>M</td>\n",
       "      <td>NaN</td>\n",
       "      <td>9.1</td>\n",
       "      <td>9.3</td>\n",
       "      <td>A</td>\n",
       "      <td>0</td>\n",
       "    </tr>\n",
       "    <tr>\n",
       "      <th>10</th>\n",
       "      <td>Kiran</td>\n",
       "      <td>V</td>\n",
       "      <td>NaN</td>\n",
       "      <td>9.3</td>\n",
       "      <td>9.2</td>\n",
       "      <td>A</td>\n",
       "      <td>0</td>\n",
       "    </tr>\n",
       "    <tr>\n",
       "      <th>11</th>\n",
       "      <td>Maya</td>\n",
       "      <td>N</td>\n",
       "      <td>7.7</td>\n",
       "      <td>8.0</td>\n",
       "      <td>7.1</td>\n",
       "      <td>B</td>\n",
       "      <td>0</td>\n",
       "    </tr>\n",
       "    <tr>\n",
       "      <th>12</th>\n",
       "      <td>Jolin</td>\n",
       "      <td>K</td>\n",
       "      <td>9.8</td>\n",
       "      <td>9.1</td>\n",
       "      <td>9.9</td>\n",
       "      <td>A+</td>\n",
       "      <td>1</td>\n",
       "    </tr>\n",
       "    <tr>\n",
       "      <th>13</th>\n",
       "      <td>Rajesh</td>\n",
       "      <td>M</td>\n",
       "      <td>8.9</td>\n",
       "      <td>9.1</td>\n",
       "      <td>9.3</td>\n",
       "      <td>A</td>\n",
       "      <td>1</td>\n",
       "    </tr>\n",
       "    <tr>\n",
       "      <th>14</th>\n",
       "      <td>Riya</td>\n",
       "      <td>M</td>\n",
       "      <td>9.3</td>\n",
       "      <td>9.9</td>\n",
       "      <td>10.0</td>\n",
       "      <td>A</td>\n",
       "      <td>1</td>\n",
       "    </tr>\n",
       "    <tr>\n",
       "      <th>15</th>\n",
       "      <td>Sana</td>\n",
       "      <td>V</td>\n",
       "      <td>9.9</td>\n",
       "      <td>9.3</td>\n",
       "      <td>9.2</td>\n",
       "      <td>A</td>\n",
       "      <td>0</td>\n",
       "    </tr>\n",
       "    <tr>\n",
       "      <th>16</th>\n",
       "      <td>Mark</td>\n",
       "      <td>N</td>\n",
       "      <td>7.7</td>\n",
       "      <td>8.0</td>\n",
       "      <td>7.0</td>\n",
       "      <td>B</td>\n",
       "      <td>0</td>\n",
       "    </tr>\n",
       "  </tbody>\n",
       "</table>\n",
       "</div>"
      ],
      "text/plain": [
       "     Names Initials  SEM1  SEM2  SEM3 Grade  Placed\n",
       "0      Joe        K   9.8  10.0   9.9    A+       1\n",
       "1   Rajesh        M   8.9   9.1   9.3     A       1\n",
       "2   Kissan        V   9.9   9.8  10.0     A       0\n",
       "3     Mary        N   7.7   8.0   NaN     B       0\n",
       "4     Jeen        K   9.8   9.1   9.9    A+       1\n",
       "5      Raj        M   8.9   9.1   9.3     A       1\n",
       "6   Hassan        V   9.9   9.0   9.2     A       1\n",
       "7     Mari        N   7.7   8.0   7.1     B       1\n",
       "8     Jess        K   NaN   9.1   9.9    A+       1\n",
       "9   Rajini        M   NaN   9.1   9.3     A       0\n",
       "10   Kiran        V   NaN   9.3   9.2     A       0\n",
       "11    Maya        N   7.7   8.0   7.1     B       0\n",
       "12   Jolin        K   9.8   9.1   9.9    A+       1\n",
       "13  Rajesh        M   8.9   9.1   9.3     A       1\n",
       "14    Riya        M   9.3   9.9  10.0     A       1\n",
       "15    Sana        V   9.9   9.3   9.2     A       0\n",
       "16    Mark        N   7.7   8.0   7.0     B       0"
      ]
     },
     "execution_count": 52,
     "metadata": {},
     "output_type": "execute_result"
    }
   ],
   "source": [
    "demodf"
   ]
  },
  {
   "cell_type": "code",
   "execution_count": 57,
   "id": "153ef26a-6725-4469-8cdb-adfbc2b70413",
   "metadata": {},
   "outputs": [
    {
     "data": {
      "text/html": [
       "<div>\n",
       "<style scoped>\n",
       "    .dataframe tbody tr th:only-of-type {\n",
       "        vertical-align: middle;\n",
       "    }\n",
       "\n",
       "    .dataframe tbody tr th {\n",
       "        vertical-align: top;\n",
       "    }\n",
       "\n",
       "    .dataframe thead th {\n",
       "        text-align: right;\n",
       "    }\n",
       "</style>\n",
       "<table border=\"1\" class=\"dataframe\">\n",
       "  <thead>\n",
       "    <tr style=\"text-align: right;\">\n",
       "      <th></th>\n",
       "      <th>Names</th>\n",
       "      <th>Initials</th>\n",
       "      <th>SEM1</th>\n",
       "      <th>SEM2</th>\n",
       "      <th>SEM3</th>\n",
       "      <th>Grade</th>\n",
       "      <th>Placed</th>\n",
       "    </tr>\n",
       "  </thead>\n",
       "  <tbody>\n",
       "    <tr>\n",
       "      <th>0</th>\n",
       "      <td>Joe</td>\n",
       "      <td>K</td>\n",
       "      <td>9.8</td>\n",
       "      <td>10.0</td>\n",
       "      <td>9.9</td>\n",
       "      <td>A+</td>\n",
       "      <td>1</td>\n",
       "    </tr>\n",
       "    <tr>\n",
       "      <th>1</th>\n",
       "      <td>Rajesh</td>\n",
       "      <td>M</td>\n",
       "      <td>8.9</td>\n",
       "      <td>9.1</td>\n",
       "      <td>9.3</td>\n",
       "      <td>A</td>\n",
       "      <td>1</td>\n",
       "    </tr>\n",
       "    <tr>\n",
       "      <th>2</th>\n",
       "      <td>Kissan</td>\n",
       "      <td>V</td>\n",
       "      <td>9.9</td>\n",
       "      <td>9.8</td>\n",
       "      <td>10.0</td>\n",
       "      <td>A</td>\n",
       "      <td>0</td>\n",
       "    </tr>\n",
       "    <tr>\n",
       "      <th>3</th>\n",
       "      <td>Mary</td>\n",
       "      <td>N</td>\n",
       "      <td>7.7</td>\n",
       "      <td>8.0</td>\n",
       "      <td>7.0</td>\n",
       "      <td>B</td>\n",
       "      <td>0</td>\n",
       "    </tr>\n",
       "    <tr>\n",
       "      <th>4</th>\n",
       "      <td>Jeen</td>\n",
       "      <td>K</td>\n",
       "      <td>9.8</td>\n",
       "      <td>9.1</td>\n",
       "      <td>9.9</td>\n",
       "      <td>A+</td>\n",
       "      <td>1</td>\n",
       "    </tr>\n",
       "    <tr>\n",
       "      <th>5</th>\n",
       "      <td>Raj</td>\n",
       "      <td>M</td>\n",
       "      <td>8.9</td>\n",
       "      <td>9.1</td>\n",
       "      <td>9.3</td>\n",
       "      <td>A</td>\n",
       "      <td>1</td>\n",
       "    </tr>\n",
       "    <tr>\n",
       "      <th>6</th>\n",
       "      <td>Hassan</td>\n",
       "      <td>V</td>\n",
       "      <td>9.9</td>\n",
       "      <td>9.0</td>\n",
       "      <td>9.2</td>\n",
       "      <td>A</td>\n",
       "      <td>1</td>\n",
       "    </tr>\n",
       "    <tr>\n",
       "      <th>7</th>\n",
       "      <td>Mari</td>\n",
       "      <td>N</td>\n",
       "      <td>7.7</td>\n",
       "      <td>8.0</td>\n",
       "      <td>7.1</td>\n",
       "      <td>B</td>\n",
       "      <td>1</td>\n",
       "    </tr>\n",
       "    <tr>\n",
       "      <th>8</th>\n",
       "      <td>Jess</td>\n",
       "      <td>K</td>\n",
       "      <td>7.0</td>\n",
       "      <td>9.1</td>\n",
       "      <td>9.9</td>\n",
       "      <td>A+</td>\n",
       "      <td>1</td>\n",
       "    </tr>\n",
       "    <tr>\n",
       "      <th>9</th>\n",
       "      <td>Rajini</td>\n",
       "      <td>M</td>\n",
       "      <td>7.0</td>\n",
       "      <td>9.1</td>\n",
       "      <td>9.3</td>\n",
       "      <td>A</td>\n",
       "      <td>0</td>\n",
       "    </tr>\n",
       "    <tr>\n",
       "      <th>10</th>\n",
       "      <td>Kiran</td>\n",
       "      <td>V</td>\n",
       "      <td>7.0</td>\n",
       "      <td>9.3</td>\n",
       "      <td>9.2</td>\n",
       "      <td>A</td>\n",
       "      <td>0</td>\n",
       "    </tr>\n",
       "    <tr>\n",
       "      <th>11</th>\n",
       "      <td>Maya</td>\n",
       "      <td>N</td>\n",
       "      <td>7.7</td>\n",
       "      <td>8.0</td>\n",
       "      <td>7.1</td>\n",
       "      <td>B</td>\n",
       "      <td>0</td>\n",
       "    </tr>\n",
       "    <tr>\n",
       "      <th>12</th>\n",
       "      <td>Jolin</td>\n",
       "      <td>K</td>\n",
       "      <td>9.8</td>\n",
       "      <td>9.1</td>\n",
       "      <td>9.9</td>\n",
       "      <td>A+</td>\n",
       "      <td>1</td>\n",
       "    </tr>\n",
       "    <tr>\n",
       "      <th>13</th>\n",
       "      <td>Rajesh</td>\n",
       "      <td>M</td>\n",
       "      <td>8.9</td>\n",
       "      <td>9.1</td>\n",
       "      <td>9.3</td>\n",
       "      <td>A</td>\n",
       "      <td>1</td>\n",
       "    </tr>\n",
       "    <tr>\n",
       "      <th>14</th>\n",
       "      <td>Riya</td>\n",
       "      <td>M</td>\n",
       "      <td>9.3</td>\n",
       "      <td>9.9</td>\n",
       "      <td>10.0</td>\n",
       "      <td>A</td>\n",
       "      <td>1</td>\n",
       "    </tr>\n",
       "    <tr>\n",
       "      <th>15</th>\n",
       "      <td>Sana</td>\n",
       "      <td>V</td>\n",
       "      <td>9.9</td>\n",
       "      <td>9.3</td>\n",
       "      <td>9.2</td>\n",
       "      <td>A</td>\n",
       "      <td>0</td>\n",
       "    </tr>\n",
       "    <tr>\n",
       "      <th>16</th>\n",
       "      <td>Mark</td>\n",
       "      <td>N</td>\n",
       "      <td>7.7</td>\n",
       "      <td>8.0</td>\n",
       "      <td>7.0</td>\n",
       "      <td>B</td>\n",
       "      <td>0</td>\n",
       "    </tr>\n",
       "  </tbody>\n",
       "</table>\n",
       "</div>"
      ],
      "text/plain": [
       "     Names Initials  SEM1  SEM2  SEM3 Grade  Placed\n",
       "0      Joe        K   9.8  10.0   9.9    A+       1\n",
       "1   Rajesh        M   8.9   9.1   9.3     A       1\n",
       "2   Kissan        V   9.9   9.8  10.0     A       0\n",
       "3     Mary        N   7.7   8.0   7.0     B       0\n",
       "4     Jeen        K   9.8   9.1   9.9    A+       1\n",
       "5      Raj        M   8.9   9.1   9.3     A       1\n",
       "6   Hassan        V   9.9   9.0   9.2     A       1\n",
       "7     Mari        N   7.7   8.0   7.1     B       1\n",
       "8     Jess        K   7.0   9.1   9.9    A+       1\n",
       "9   Rajini        M   7.0   9.1   9.3     A       0\n",
       "10   Kiran        V   7.0   9.3   9.2     A       0\n",
       "11    Maya        N   7.7   8.0   7.1     B       0\n",
       "12   Jolin        K   9.8   9.1   9.9    A+       1\n",
       "13  Rajesh        M   8.9   9.1   9.3     A       1\n",
       "14    Riya        M   9.3   9.9  10.0     A       1\n",
       "15    Sana        V   9.9   9.3   9.2     A       0\n",
       "16    Mark        N   7.7   8.0   7.0     B       0"
      ]
     },
     "execution_count": 57,
     "metadata": {},
     "output_type": "execute_result"
    }
   ],
   "source": [
    "demodf.fillna(7,inplace = True)\n",
    "demodf"
   ]
  },
  {
   "cell_type": "code",
   "execution_count": 60,
   "id": "3f400cd8-fdbf-41d0-a983-ecd62facefb5",
   "metadata": {},
   "outputs": [
    {
     "data": {
      "text/html": [
       "<div>\n",
       "<style scoped>\n",
       "    .dataframe tbody tr th:only-of-type {\n",
       "        vertical-align: middle;\n",
       "    }\n",
       "\n",
       "    .dataframe tbody tr th {\n",
       "        vertical-align: top;\n",
       "    }\n",
       "\n",
       "    .dataframe thead th {\n",
       "        text-align: right;\n",
       "    }\n",
       "</style>\n",
       "<table border=\"1\" class=\"dataframe\">\n",
       "  <thead>\n",
       "    <tr style=\"text-align: right;\">\n",
       "      <th></th>\n",
       "      <th>Names</th>\n",
       "      <th>Initials</th>\n",
       "      <th>SEM1</th>\n",
       "      <th>SEM2</th>\n",
       "      <th>SEM3</th>\n",
       "      <th>Grade</th>\n",
       "      <th>Placed</th>\n",
       "    </tr>\n",
       "  </thead>\n",
       "  <tbody>\n",
       "    <tr>\n",
       "      <th>0</th>\n",
       "      <td>Joe</td>\n",
       "      <td>K</td>\n",
       "      <td>9.8</td>\n",
       "      <td>10.0</td>\n",
       "      <td>9.9</td>\n",
       "      <td>A+</td>\n",
       "      <td>1</td>\n",
       "    </tr>\n",
       "    <tr>\n",
       "      <th>1</th>\n",
       "      <td>Rajesh</td>\n",
       "      <td>M</td>\n",
       "      <td>8.9</td>\n",
       "      <td>9.1</td>\n",
       "      <td>9.3</td>\n",
       "      <td>A</td>\n",
       "      <td>1</td>\n",
       "    </tr>\n",
       "    <tr>\n",
       "      <th>2</th>\n",
       "      <td>Kissan</td>\n",
       "      <td>V</td>\n",
       "      <td>9.9</td>\n",
       "      <td>9.8</td>\n",
       "      <td>10.0</td>\n",
       "      <td>A</td>\n",
       "      <td>0</td>\n",
       "    </tr>\n",
       "    <tr>\n",
       "      <th>3</th>\n",
       "      <td>Mary</td>\n",
       "      <td>N</td>\n",
       "      <td>7.7</td>\n",
       "      <td>8.0</td>\n",
       "      <td>7.0</td>\n",
       "      <td>B</td>\n",
       "      <td>0</td>\n",
       "    </tr>\n",
       "    <tr>\n",
       "      <th>4</th>\n",
       "      <td>Jeen</td>\n",
       "      <td>K</td>\n",
       "      <td>9.8</td>\n",
       "      <td>9.1</td>\n",
       "      <td>9.9</td>\n",
       "      <td>A+</td>\n",
       "      <td>1</td>\n",
       "    </tr>\n",
       "    <tr>\n",
       "      <th>5</th>\n",
       "      <td>Raj</td>\n",
       "      <td>M</td>\n",
       "      <td>8.9</td>\n",
       "      <td>9.1</td>\n",
       "      <td>9.3</td>\n",
       "      <td>A</td>\n",
       "      <td>1</td>\n",
       "    </tr>\n",
       "    <tr>\n",
       "      <th>6</th>\n",
       "      <td>Hassan</td>\n",
       "      <td>V</td>\n",
       "      <td>9.9</td>\n",
       "      <td>9.0</td>\n",
       "      <td>9.2</td>\n",
       "      <td>A</td>\n",
       "      <td>1</td>\n",
       "    </tr>\n",
       "    <tr>\n",
       "      <th>7</th>\n",
       "      <td>Mari</td>\n",
       "      <td>N</td>\n",
       "      <td>7.7</td>\n",
       "      <td>8.0</td>\n",
       "      <td>7.1</td>\n",
       "      <td>B</td>\n",
       "      <td>1</td>\n",
       "    </tr>\n",
       "    <tr>\n",
       "      <th>8</th>\n",
       "      <td>Jess</td>\n",
       "      <td>K</td>\n",
       "      <td>7.0</td>\n",
       "      <td>9.1</td>\n",
       "      <td>9.9</td>\n",
       "      <td>A+</td>\n",
       "      <td>1</td>\n",
       "    </tr>\n",
       "    <tr>\n",
       "      <th>9</th>\n",
       "      <td>Rajini</td>\n",
       "      <td>M</td>\n",
       "      <td>7.0</td>\n",
       "      <td>9.1</td>\n",
       "      <td>9.3</td>\n",
       "      <td>A</td>\n",
       "      <td>0</td>\n",
       "    </tr>\n",
       "    <tr>\n",
       "      <th>10</th>\n",
       "      <td>Kiran</td>\n",
       "      <td>V</td>\n",
       "      <td>7.0</td>\n",
       "      <td>9.3</td>\n",
       "      <td>9.2</td>\n",
       "      <td>A</td>\n",
       "      <td>0</td>\n",
       "    </tr>\n",
       "    <tr>\n",
       "      <th>11</th>\n",
       "      <td>Maya</td>\n",
       "      <td>N</td>\n",
       "      <td>7.7</td>\n",
       "      <td>8.0</td>\n",
       "      <td>7.1</td>\n",
       "      <td>B</td>\n",
       "      <td>0</td>\n",
       "    </tr>\n",
       "    <tr>\n",
       "      <th>12</th>\n",
       "      <td>Jolin</td>\n",
       "      <td>K</td>\n",
       "      <td>9.8</td>\n",
       "      <td>9.1</td>\n",
       "      <td>9.9</td>\n",
       "      <td>A+</td>\n",
       "      <td>1</td>\n",
       "    </tr>\n",
       "    <tr>\n",
       "      <th>14</th>\n",
       "      <td>Riya</td>\n",
       "      <td>M</td>\n",
       "      <td>9.3</td>\n",
       "      <td>9.9</td>\n",
       "      <td>10.0</td>\n",
       "      <td>A</td>\n",
       "      <td>1</td>\n",
       "    </tr>\n",
       "    <tr>\n",
       "      <th>15</th>\n",
       "      <td>Sana</td>\n",
       "      <td>V</td>\n",
       "      <td>9.9</td>\n",
       "      <td>9.3</td>\n",
       "      <td>9.2</td>\n",
       "      <td>A</td>\n",
       "      <td>0</td>\n",
       "    </tr>\n",
       "    <tr>\n",
       "      <th>16</th>\n",
       "      <td>Mark</td>\n",
       "      <td>N</td>\n",
       "      <td>7.7</td>\n",
       "      <td>8.0</td>\n",
       "      <td>7.0</td>\n",
       "      <td>B</td>\n",
       "      <td>0</td>\n",
       "    </tr>\n",
       "  </tbody>\n",
       "</table>\n",
       "</div>"
      ],
      "text/plain": [
       "     Names Initials  SEM1  SEM2  SEM3 Grade  Placed\n",
       "0      Joe        K   9.8  10.0   9.9    A+       1\n",
       "1   Rajesh        M   8.9   9.1   9.3     A       1\n",
       "2   Kissan        V   9.9   9.8  10.0     A       0\n",
       "3     Mary        N   7.7   8.0   7.0     B       0\n",
       "4     Jeen        K   9.8   9.1   9.9    A+       1\n",
       "5      Raj        M   8.9   9.1   9.3     A       1\n",
       "6   Hassan        V   9.9   9.0   9.2     A       1\n",
       "7     Mari        N   7.7   8.0   7.1     B       1\n",
       "8     Jess        K   7.0   9.1   9.9    A+       1\n",
       "9   Rajini        M   7.0   9.1   9.3     A       0\n",
       "10   Kiran        V   7.0   9.3   9.2     A       0\n",
       "11    Maya        N   7.7   8.0   7.1     B       0\n",
       "12   Jolin        K   9.8   9.1   9.9    A+       1\n",
       "14    Riya        M   9.3   9.9  10.0     A       1\n",
       "15    Sana        V   9.9   9.3   9.2     A       0\n",
       "16    Mark        N   7.7   8.0   7.0     B       0"
      ]
     },
     "execution_count": 60,
     "metadata": {},
     "output_type": "execute_result"
    }
   ],
   "source": [
    "demodf.drop_duplicates(inplace=True)\n",
    "demodf"
   ]
  },
  {
   "cell_type": "code",
   "execution_count": 61,
   "id": "987201aa-570d-49ed-bbac-cf0d4b8008f4",
   "metadata": {},
   "outputs": [
    {
     "data": {
      "text/html": [
       "<div>\n",
       "<style scoped>\n",
       "    .dataframe tbody tr th:only-of-type {\n",
       "        vertical-align: middle;\n",
       "    }\n",
       "\n",
       "    .dataframe tbody tr th {\n",
       "        vertical-align: top;\n",
       "    }\n",
       "\n",
       "    .dataframe thead th {\n",
       "        text-align: right;\n",
       "    }\n",
       "</style>\n",
       "<table border=\"1\" class=\"dataframe\">\n",
       "  <thead>\n",
       "    <tr style=\"text-align: right;\">\n",
       "      <th></th>\n",
       "      <th>Names</th>\n",
       "      <th>Initials</th>\n",
       "      <th>SEM1</th>\n",
       "      <th>SEM2</th>\n",
       "      <th>SEM3</th>\n",
       "      <th>Grade</th>\n",
       "      <th>Placed</th>\n",
       "    </tr>\n",
       "  </thead>\n",
       "  <tbody>\n",
       "    <tr>\n",
       "      <th>0</th>\n",
       "      <td>Joe</td>\n",
       "      <td>K</td>\n",
       "      <td>9.8</td>\n",
       "      <td>10.0</td>\n",
       "      <td>9.9</td>\n",
       "      <td>A+</td>\n",
       "      <td>1</td>\n",
       "    </tr>\n",
       "    <tr>\n",
       "      <th>1</th>\n",
       "      <td>Rajesh</td>\n",
       "      <td>M</td>\n",
       "      <td>8.9</td>\n",
       "      <td>9.1</td>\n",
       "      <td>9.3</td>\n",
       "      <td>A</td>\n",
       "      <td>1</td>\n",
       "    </tr>\n",
       "    <tr>\n",
       "      <th>2</th>\n",
       "      <td>Kissan</td>\n",
       "      <td>V</td>\n",
       "      <td>9.9</td>\n",
       "      <td>9.8</td>\n",
       "      <td>10.0</td>\n",
       "      <td>A</td>\n",
       "      <td>0</td>\n",
       "    </tr>\n",
       "    <tr>\n",
       "      <th>3</th>\n",
       "      <td>Mary</td>\n",
       "      <td>N</td>\n",
       "      <td>7.7</td>\n",
       "      <td>8.0</td>\n",
       "      <td>7.0</td>\n",
       "      <td>B</td>\n",
       "      <td>0</td>\n",
       "    </tr>\n",
       "    <tr>\n",
       "      <th>4</th>\n",
       "      <td>Jeen</td>\n",
       "      <td>K</td>\n",
       "      <td>9.8</td>\n",
       "      <td>9.1</td>\n",
       "      <td>9.9</td>\n",
       "      <td>A+</td>\n",
       "      <td>1</td>\n",
       "    </tr>\n",
       "  </tbody>\n",
       "</table>\n",
       "</div>"
      ],
      "text/plain": [
       "    Names Initials  SEM1  SEM2  SEM3 Grade  Placed\n",
       "0     Joe        K   9.8  10.0   9.9    A+       1\n",
       "1  Rajesh        M   8.9   9.1   9.3     A       1\n",
       "2  Kissan        V   9.9   9.8  10.0     A       0\n",
       "3    Mary        N   7.7   8.0   7.0     B       0\n",
       "4    Jeen        K   9.8   9.1   9.9    A+       1"
      ]
     },
     "execution_count": 61,
     "metadata": {},
     "output_type": "execute_result"
    }
   ],
   "source": [
    "demodf.head()"
   ]
  },
  {
   "cell_type": "code",
   "execution_count": 65,
   "id": "b48c0ca8-a353-4758-84ca-fdcd4bc067d1",
   "metadata": {},
   "outputs": [],
   "source": [
    "demodf = pd.read_csv('grades_withnulls.csv')"
   ]
  },
  {
   "cell_type": "code",
   "execution_count": 67,
   "id": "bc37c06a-fd83-4b33-a9b1-bb934f1a5be2",
   "metadata": {},
   "outputs": [
    {
     "name": "stdout",
     "output_type": "stream",
     "text": [
      "    Names Initials  SEM1  SEM2  SEM3 Grade  Placed\n",
      "0     Joe        K   9.8  10.0   9.9    A+       1\n",
      "1  Rajesh        M   8.9   9.1   9.3     A       1\n",
      "2  Kissan        V   9.9   9.8  10.0     A       0\n",
      "3    Mary        N   7.7   8.0   NaN     B       0\n",
      "4    Jeen        K   9.8   9.1   9.9    A+       1\n"
     ]
    },
    {
     "data": {
      "image/png": "[encoded data removed]",
      "text/plain": [
       "<Figure size 800x800 with 1 Axes>"
      ]
     },
     "metadata": {},
     "output_type": "display_data"
    },
    {
     "data": {
      "image/png": "[encoded data removed]",
      "text/plain": [
       "<Figure size 800x800 with 1 Axes>"
      ]
     },
     "metadata": {},
     "output_type": "display_data"
    },
    {
     "data": {
      "image/png": "[encoded data removed]",
      "text/plain": [
       "<Figure size 800x800 with 1 Axes>"
      ]
     },
     "metadata": {},
     "output_type": "display_data"
    }
   ],
   "source": [
    "import pandas as pd\n",
    "import matplotlib.pyplot as plt\n",
    "file_path = 'grades_withnulls.csv'\n",
    "demodf = pd.read_csv(file_path)\n",
    "print(demodf.head())\n",
    "demodf = demodf.apply(lambda x: x.fillna(x.mode()[0] if not x.mode().empty else 'Unknown'))\n",
    "def create_pie_chart(column_name):\n",
    "    counts = demodf[column_name].value_counts()\n",
    "    plt.figure(figsize=(8, 8))\n",
    "    plt.pie(counts, labels=counts.index, autopct='%1.1f%%', startangle=140)\n",
    "    plt.title(f'Distribution of {column_name}')\n",
    "    plt.show()\n",
    "categorical_columns = ['Names', 'SEM1', 'Grade']\n",
    "for column in categorical_columns:\n",
    "    if column in demodf.columns:\n",
    "        create_pie_chart(column)\n",
    "    else:\n",
    "        print(f\"The column '{column}' does not exist in the dataframe.\")\n"
   ]
  },
  {
   "cell_type": "code",
   "execution_count": 69,
   "id": "b72b9fc2-54ec-4998-9030-054df8a9e12b",
   "metadata": {},
   "outputs": [
    {
     "data": {
      "text/html": [
       "<div>\n",
       "<style scoped>\n",
       "    .dataframe tbody tr th:only-of-type {\n",
       "        vertical-align: middle;\n",
       "    }\n",
       "\n",
       "    .dataframe tbody tr th {\n",
       "        vertical-align: top;\n",
       "    }\n",
       "\n",
       "    .dataframe thead th {\n",
       "        text-align: right;\n",
       "    }\n",
       "</style>\n",
       "<table border=\"1\" class=\"dataframe\">\n",
       "  <thead>\n",
       "    <tr style=\"text-align: right;\">\n",
       "      <th></th>\n",
       "      <th>Names</th>\n",
       "      <th>Initials</th>\n",
       "      <th>SEM1</th>\n",
       "      <th>SEM2</th>\n",
       "      <th>SEM3</th>\n",
       "      <th>Grade</th>\n",
       "      <th>Placed</th>\n",
       "      <th>Avarage</th>\n",
       "    </tr>\n",
       "  </thead>\n",
       "  <tbody>\n",
       "    <tr>\n",
       "      <th>0</th>\n",
       "      <td>Joe</td>\n",
       "      <td>K</td>\n",
       "      <td>9.8</td>\n",
       "      <td>10.0</td>\n",
       "      <td>9.9</td>\n",
       "      <td>A+</td>\n",
       "      <td>1</td>\n",
       "      <td>9.900000</td>\n",
       "    </tr>\n",
       "    <tr>\n",
       "      <th>1</th>\n",
       "      <td>Rajesh</td>\n",
       "      <td>M</td>\n",
       "      <td>8.9</td>\n",
       "      <td>9.1</td>\n",
       "      <td>9.3</td>\n",
       "      <td>A</td>\n",
       "      <td>1</td>\n",
       "      <td>9.100000</td>\n",
       "    </tr>\n",
       "    <tr>\n",
       "      <th>2</th>\n",
       "      <td>Kissan</td>\n",
       "      <td>V</td>\n",
       "      <td>9.9</td>\n",
       "      <td>9.8</td>\n",
       "      <td>10.0</td>\n",
       "      <td>A</td>\n",
       "      <td>0</td>\n",
       "      <td>9.900000</td>\n",
       "    </tr>\n",
       "    <tr>\n",
       "      <th>3</th>\n",
       "      <td>Mary</td>\n",
       "      <td>N</td>\n",
       "      <td>7.7</td>\n",
       "      <td>8.0</td>\n",
       "      <td>9.3</td>\n",
       "      <td>B</td>\n",
       "      <td>0</td>\n",
       "      <td>8.333333</td>\n",
       "    </tr>\n",
       "    <tr>\n",
       "      <th>4</th>\n",
       "      <td>Jeen</td>\n",
       "      <td>K</td>\n",
       "      <td>9.8</td>\n",
       "      <td>9.1</td>\n",
       "      <td>9.9</td>\n",
       "      <td>A+</td>\n",
       "      <td>1</td>\n",
       "      <td>9.600000</td>\n",
       "    </tr>\n",
       "    <tr>\n",
       "      <th>5</th>\n",
       "      <td>Raj</td>\n",
       "      <td>M</td>\n",
       "      <td>8.9</td>\n",
       "      <td>9.1</td>\n",
       "      <td>9.3</td>\n",
       "      <td>A</td>\n",
       "      <td>1</td>\n",
       "      <td>9.100000</td>\n",
       "    </tr>\n",
       "    <tr>\n",
       "      <th>6</th>\n",
       "      <td>Hassan</td>\n",
       "      <td>V</td>\n",
       "      <td>9.9</td>\n",
       "      <td>9.0</td>\n",
       "      <td>9.2</td>\n",
       "      <td>A</td>\n",
       "      <td>1</td>\n",
       "      <td>9.366667</td>\n",
       "    </tr>\n",
       "    <tr>\n",
       "      <th>7</th>\n",
       "      <td>Mari</td>\n",
       "      <td>N</td>\n",
       "      <td>7.7</td>\n",
       "      <td>8.0</td>\n",
       "      <td>7.1</td>\n",
       "      <td>B</td>\n",
       "      <td>1</td>\n",
       "      <td>7.600000</td>\n",
       "    </tr>\n",
       "    <tr>\n",
       "      <th>8</th>\n",
       "      <td>Jess</td>\n",
       "      <td>K</td>\n",
       "      <td>7.7</td>\n",
       "      <td>9.1</td>\n",
       "      <td>9.9</td>\n",
       "      <td>A+</td>\n",
       "      <td>1</td>\n",
       "      <td>8.900000</td>\n",
       "    </tr>\n",
       "    <tr>\n",
       "      <th>9</th>\n",
       "      <td>Rajini</td>\n",
       "      <td>M</td>\n",
       "      <td>7.7</td>\n",
       "      <td>9.1</td>\n",
       "      <td>9.3</td>\n",
       "      <td>A</td>\n",
       "      <td>0</td>\n",
       "      <td>8.700000</td>\n",
       "    </tr>\n",
       "    <tr>\n",
       "      <th>10</th>\n",
       "      <td>Kiran</td>\n",
       "      <td>V</td>\n",
       "      <td>7.7</td>\n",
       "      <td>9.3</td>\n",
       "      <td>9.2</td>\n",
       "      <td>A</td>\n",
       "      <td>0</td>\n",
       "      <td>8.733333</td>\n",
       "    </tr>\n",
       "    <tr>\n",
       "      <th>11</th>\n",
       "      <td>Maya</td>\n",
       "      <td>N</td>\n",
       "      <td>7.7</td>\n",
       "      <td>8.0</td>\n",
       "      <td>7.1</td>\n",
       "      <td>B</td>\n",
       "      <td>0</td>\n",
       "      <td>7.600000</td>\n",
       "    </tr>\n",
       "    <tr>\n",
       "      <th>12</th>\n",
       "      <td>Jolin</td>\n",
       "      <td>K</td>\n",
       "      <td>9.8</td>\n",
       "      <td>9.1</td>\n",
       "      <td>9.9</td>\n",
       "      <td>A+</td>\n",
       "      <td>1</td>\n",
       "      <td>9.600000</td>\n",
       "    </tr>\n",
       "    <tr>\n",
       "      <th>13</th>\n",
       "      <td>Rajesh</td>\n",
       "      <td>M</td>\n",
       "      <td>8.9</td>\n",
       "      <td>9.1</td>\n",
       "      <td>9.3</td>\n",
       "      <td>A</td>\n",
       "      <td>1</td>\n",
       "      <td>9.100000</td>\n",
       "    </tr>\n",
       "    <tr>\n",
       "      <th>14</th>\n",
       "      <td>Riya</td>\n",
       "      <td>M</td>\n",
       "      <td>9.3</td>\n",
       "      <td>9.9</td>\n",
       "      <td>10.0</td>\n",
       "      <td>A</td>\n",
       "      <td>1</td>\n",
       "      <td>9.733333</td>\n",
       "    </tr>\n",
       "    <tr>\n",
       "      <th>15</th>\n",
       "      <td>Sana</td>\n",
       "      <td>V</td>\n",
       "      <td>9.9</td>\n",
       "      <td>9.3</td>\n",
       "      <td>9.2</td>\n",
       "      <td>A</td>\n",
       "      <td>0</td>\n",
       "      <td>9.466667</td>\n",
       "    </tr>\n",
       "    <tr>\n",
       "      <th>16</th>\n",
       "      <td>Mark</td>\n",
       "      <td>N</td>\n",
       "      <td>7.7</td>\n",
       "      <td>8.0</td>\n",
       "      <td>7.0</td>\n",
       "      <td>B</td>\n",
       "      <td>0</td>\n",
       "      <td>7.566667</td>\n",
       "    </tr>\n",
       "  </tbody>\n",
       "</table>\n",
       "</div>"
      ],
      "text/plain": [
       "     Names Initials  SEM1  SEM2  SEM3 Grade  Placed   Avarage\n",
       "0      Joe        K   9.8  10.0   9.9    A+       1  9.900000\n",
       "1   Rajesh        M   8.9   9.1   9.3     A       1  9.100000\n",
       "2   Kissan        V   9.9   9.8  10.0     A       0  9.900000\n",
       "3     Mary        N   7.7   8.0   9.3     B       0  8.333333\n",
       "4     Jeen        K   9.8   9.1   9.9    A+       1  9.600000\n",
       "5      Raj        M   8.9   9.1   9.3     A       1  9.100000\n",
       "6   Hassan        V   9.9   9.0   9.2     A       1  9.366667\n",
       "7     Mari        N   7.7   8.0   7.1     B       1  7.600000\n",
       "8     Jess        K   7.7   9.1   9.9    A+       1  8.900000\n",
       "9   Rajini        M   7.7   9.1   9.3     A       0  8.700000\n",
       "10   Kiran        V   7.7   9.3   9.2     A       0  8.733333\n",
       "11    Maya        N   7.7   8.0   7.1     B       0  7.600000\n",
       "12   Jolin        K   9.8   9.1   9.9    A+       1  9.600000\n",
       "13  Rajesh        M   8.9   9.1   9.3     A       1  9.100000\n",
       "14    Riya        M   9.3   9.9  10.0     A       1  9.733333\n",
       "15    Sana        V   9.9   9.3   9.2     A       0  9.466667\n",
       "16    Mark        N   7.7   8.0   7.0     B       0  7.566667"
      ]
     },
     "execution_count": 69,
     "metadata": {},
     "output_type": "execute_result"
    }
   ],
   "source": [
    "demodf['Avarage']=(demodf['SEM1']+demodf['SEM2']+demodf['SEM3'])/3\n",
    "demodf"
   ]
  },
  {
   "cell_type": "code",
   "execution_count": 76,
   "id": "bb9d2328-1c95-4062-bba9-3715d01aa090",
   "metadata": {},
   "outputs": [
    {
     "data": {
      "text/html": [
       "<div>\n",
       "<style scoped>\n",
       "    .dataframe tbody tr th:only-of-type {\n",
       "        vertical-align: middle;\n",
       "    }\n",
       "\n",
       "    .dataframe tbody tr th {\n",
       "        vertical-align: top;\n",
       "    }\n",
       "\n",
       "    .dataframe thead th {\n",
       "        text-align: right;\n",
       "    }\n",
       "</style>\n",
       "<table border=\"1\" class=\"dataframe\">\n",
       "  <thead>\n",
       "    <tr style=\"text-align: right;\">\n",
       "      <th></th>\n",
       "      <th>Names</th>\n",
       "      <th>Initials</th>\n",
       "      <th>SEM1</th>\n",
       "      <th>SEM2</th>\n",
       "      <th>SEM3</th>\n",
       "      <th>Grade</th>\n",
       "      <th>Placed</th>\n",
       "      <th>Avarage</th>\n",
       "    </tr>\n",
       "  </thead>\n",
       "  <tbody>\n",
       "    <tr>\n",
       "      <th>0</th>\n",
       "      <td>Joe</td>\n",
       "      <td>K</td>\n",
       "      <td>9.8</td>\n",
       "      <td>10.0</td>\n",
       "      <td>9.9</td>\n",
       "      <td>A+</td>\n",
       "      <td>1</td>\n",
       "      <td>9.900000</td>\n",
       "    </tr>\n",
       "    <tr>\n",
       "      <th>1</th>\n",
       "      <td>Rajesh</td>\n",
       "      <td>M</td>\n",
       "      <td>8.9</td>\n",
       "      <td>9.1</td>\n",
       "      <td>9.3</td>\n",
       "      <td>A</td>\n",
       "      <td>1</td>\n",
       "      <td>9.100000</td>\n",
       "    </tr>\n",
       "    <tr>\n",
       "      <th>2</th>\n",
       "      <td>Kissan</td>\n",
       "      <td>V</td>\n",
       "      <td>9.9</td>\n",
       "      <td>9.8</td>\n",
       "      <td>10.0</td>\n",
       "      <td>A</td>\n",
       "      <td>0</td>\n",
       "      <td>9.900000</td>\n",
       "    </tr>\n",
       "    <tr>\n",
       "      <th>3</th>\n",
       "      <td>Mary</td>\n",
       "      <td>N</td>\n",
       "      <td>7.7</td>\n",
       "      <td>8.0</td>\n",
       "      <td>9.3</td>\n",
       "      <td>B</td>\n",
       "      <td>0</td>\n",
       "      <td>8.333333</td>\n",
       "    </tr>\n",
       "    <tr>\n",
       "      <th>4</th>\n",
       "      <td>Jeen</td>\n",
       "      <td>K</td>\n",
       "      <td>9.8</td>\n",
       "      <td>9.1</td>\n",
       "      <td>9.9</td>\n",
       "      <td>A+</td>\n",
       "      <td>1</td>\n",
       "      <td>9.600000</td>\n",
       "    </tr>\n",
       "    <tr>\n",
       "      <th>5</th>\n",
       "      <td>Raj</td>\n",
       "      <td>M</td>\n",
       "      <td>8.9</td>\n",
       "      <td>9.1</td>\n",
       "      <td>9.3</td>\n",
       "      <td>A</td>\n",
       "      <td>1</td>\n",
       "      <td>9.100000</td>\n",
       "    </tr>\n",
       "    <tr>\n",
       "      <th>6</th>\n",
       "      <td>Hassan</td>\n",
       "      <td>V</td>\n",
       "      <td>9.9</td>\n",
       "      <td>9.0</td>\n",
       "      <td>9.2</td>\n",
       "      <td>A</td>\n",
       "      <td>1</td>\n",
       "      <td>9.366667</td>\n",
       "    </tr>\n",
       "    <tr>\n",
       "      <th>7</th>\n",
       "      <td>Mari</td>\n",
       "      <td>N</td>\n",
       "      <td>7.7</td>\n",
       "      <td>8.0</td>\n",
       "      <td>7.1</td>\n",
       "      <td>B</td>\n",
       "      <td>1</td>\n",
       "      <td>7.600000</td>\n",
       "    </tr>\n",
       "    <tr>\n",
       "      <th>8</th>\n",
       "      <td>Jess</td>\n",
       "      <td>K</td>\n",
       "      <td>7.7</td>\n",
       "      <td>9.1</td>\n",
       "      <td>9.9</td>\n",
       "      <td>A+</td>\n",
       "      <td>1</td>\n",
       "      <td>8.900000</td>\n",
       "    </tr>\n",
       "    <tr>\n",
       "      <th>9</th>\n",
       "      <td>Rajini</td>\n",
       "      <td>M</td>\n",
       "      <td>7.7</td>\n",
       "      <td>9.1</td>\n",
       "      <td>9.3</td>\n",
       "      <td>A</td>\n",
       "      <td>0</td>\n",
       "      <td>8.700000</td>\n",
       "    </tr>\n",
       "    <tr>\n",
       "      <th>10</th>\n",
       "      <td>Kiran</td>\n",
       "      <td>V</td>\n",
       "      <td>7.7</td>\n",
       "      <td>9.3</td>\n",
       "      <td>9.2</td>\n",
       "      <td>A</td>\n",
       "      <td>0</td>\n",
       "      <td>8.733333</td>\n",
       "    </tr>\n",
       "    <tr>\n",
       "      <th>11</th>\n",
       "      <td>Maya</td>\n",
       "      <td>N</td>\n",
       "      <td>7.7</td>\n",
       "      <td>8.0</td>\n",
       "      <td>7.1</td>\n",
       "      <td>B</td>\n",
       "      <td>0</td>\n",
       "      <td>7.600000</td>\n",
       "    </tr>\n",
       "    <tr>\n",
       "      <th>12</th>\n",
       "      <td>Jolin</td>\n",
       "      <td>K</td>\n",
       "      <td>9.8</td>\n",
       "      <td>9.1</td>\n",
       "      <td>9.9</td>\n",
       "      <td>A+</td>\n",
       "      <td>1</td>\n",
       "      <td>9.600000</td>\n",
       "    </tr>\n",
       "    <tr>\n",
       "      <th>13</th>\n",
       "      <td>Rajesh</td>\n",
       "      <td>M</td>\n",
       "      <td>8.9</td>\n",
       "      <td>9.1</td>\n",
       "      <td>9.3</td>\n",
       "      <td>A</td>\n",
       "      <td>1</td>\n",
       "      <td>9.100000</td>\n",
       "    </tr>\n",
       "    <tr>\n",
       "      <th>14</th>\n",
       "      <td>Riya</td>\n",
       "      <td>M</td>\n",
       "      <td>9.3</td>\n",
       "      <td>9.9</td>\n",
       "      <td>10.0</td>\n",
       "      <td>A</td>\n",
       "      <td>1</td>\n",
       "      <td>9.733333</td>\n",
       "    </tr>\n",
       "    <tr>\n",
       "      <th>15</th>\n",
       "      <td>Sana</td>\n",
       "      <td>V</td>\n",
       "      <td>9.9</td>\n",
       "      <td>9.3</td>\n",
       "      <td>9.2</td>\n",
       "      <td>A</td>\n",
       "      <td>0</td>\n",
       "      <td>9.466667</td>\n",
       "    </tr>\n",
       "    <tr>\n",
       "      <th>16</th>\n",
       "      <td>Mark</td>\n",
       "      <td>N</td>\n",
       "      <td>7.7</td>\n",
       "      <td>8.0</td>\n",
       "      <td>7.0</td>\n",
       "      <td>B</td>\n",
       "      <td>0</td>\n",
       "      <td>7.566667</td>\n",
       "    </tr>\n",
       "  </tbody>\n",
       "</table>\n",
       "</div>"
      ],
      "text/plain": [
       "     Names Initials  SEM1  SEM2  SEM3 Grade  Placed   Avarage\n",
       "0      Joe        K   9.8  10.0   9.9    A+       1  9.900000\n",
       "1   Rajesh        M   8.9   9.1   9.3     A       1  9.100000\n",
       "2   Kissan        V   9.9   9.8  10.0     A       0  9.900000\n",
       "3     Mary        N   7.7   8.0   9.3     B       0  8.333333\n",
       "4     Jeen        K   9.8   9.1   9.9    A+       1  9.600000\n",
       "5      Raj        M   8.9   9.1   9.3     A       1  9.100000\n",
       "6   Hassan        V   9.9   9.0   9.2     A       1  9.366667\n",
       "7     Mari        N   7.7   8.0   7.1     B       1  7.600000\n",
       "8     Jess        K   7.7   9.1   9.9    A+       1  8.900000\n",
       "9   Rajini        M   7.7   9.1   9.3     A       0  8.700000\n",
       "10   Kiran        V   7.7   9.3   9.2     A       0  8.733333\n",
       "11    Maya        N   7.7   8.0   7.1     B       0  7.600000\n",
       "12   Jolin        K   9.8   9.1   9.9    A+       1  9.600000\n",
       "13  Rajesh        M   8.9   9.1   9.3     A       1  9.100000\n",
       "14    Riya        M   9.3   9.9  10.0     A       1  9.733333\n",
       "15    Sana        V   9.9   9.3   9.2     A       0  9.466667\n",
       "16    Mark        N   7.7   8.0   7.0     B       0  7.566667"
      ]
     },
     "execution_count": 76,
     "metadata": {},
     "output_type": "execute_result"
    }
   ],
   "source": [
    "demodf"
   ]
  },
  {
   "cell_type": "code",
   "execution_count": 81,
   "id": "4acc822c-ca78-436e-95ab-c089cad6526c",
   "metadata": {},
   "outputs": [
    {
     "data": {
      "text/plain": [
       "0       Joe\n",
       "1    Rajesh\n",
       "2    Kissan\n",
       "3      Mary\n",
       "4      Jeen\n",
       "Name: Names, dtype: object"
      ]
     },
     "execution_count": 81,
     "metadata": {},
     "output_type": "execute_result"
    }
   ],
   "source": [
    "demodf.loc[0:4,'Names']"
   ]
  },
  {
   "cell_type": "code",
   "execution_count": 80,
   "id": "0a0f52ef-489e-4a2c-ac34-d321f12053c7",
   "metadata": {},
   "outputs": [
    {
     "data": {
      "text/html": [
       "<div>\n",
       "<style scoped>\n",
       "    .dataframe tbody tr th:only-of-type {\n",
       "        vertical-align: middle;\n",
       "    }\n",
       "\n",
       "    .dataframe tbody tr th {\n",
       "        vertical-align: top;\n",
       "    }\n",
       "\n",
       "    .dataframe thead th {\n",
       "        text-align: right;\n",
       "    }\n",
       "</style>\n",
       "<table border=\"1\" class=\"dataframe\">\n",
       "  <thead>\n",
       "    <tr style=\"text-align: right;\">\n",
       "      <th></th>\n",
       "      <th>Names</th>\n",
       "      <th>Grade</th>\n",
       "    </tr>\n",
       "  </thead>\n",
       "  <tbody>\n",
       "    <tr>\n",
       "      <th>4</th>\n",
       "      <td>Jeen</td>\n",
       "      <td>A+</td>\n",
       "    </tr>\n",
       "    <tr>\n",
       "      <th>5</th>\n",
       "      <td>Raj</td>\n",
       "      <td>A</td>\n",
       "    </tr>\n",
       "    <tr>\n",
       "      <th>6</th>\n",
       "      <td>Hassan</td>\n",
       "      <td>A</td>\n",
       "    </tr>\n",
       "    <tr>\n",
       "      <th>7</th>\n",
       "      <td>Mari</td>\n",
       "      <td>B</td>\n",
       "    </tr>\n",
       "    <tr>\n",
       "      <th>8</th>\n",
       "      <td>Jess</td>\n",
       "      <td>A+</td>\n",
       "    </tr>\n",
       "  </tbody>\n",
       "</table>\n",
       "</div>"
      ],
      "text/plain": [
       "    Names Grade\n",
       "4    Jeen    A+\n",
       "5     Raj     A\n",
       "6  Hassan     A\n",
       "7    Mari     B\n",
       "8    Jess    A+"
      ]
     },
     "execution_count": 80,
     "metadata": {},
     "output_type": "execute_result"
    }
   ],
   "source": [
    "demodf.loc[4:8,['Names','Grade']]"
   ]
  },
  {
   "cell_type": "code",
   "execution_count": 83,
   "id": "9c343e62-69dd-4b06-9081-f65761621aa0",
   "metadata": {},
   "outputs": [
    {
     "data": {
      "text/html": [
       "<div>\n",
       "<style scoped>\n",
       "    .dataframe tbody tr th:only-of-type {\n",
       "        vertical-align: middle;\n",
       "    }\n",
       "\n",
       "    .dataframe tbody tr th {\n",
       "        vertical-align: top;\n",
       "    }\n",
       "\n",
       "    .dataframe thead th {\n",
       "        text-align: right;\n",
       "    }\n",
       "</style>\n",
       "<table border=\"1\" class=\"dataframe\">\n",
       "  <thead>\n",
       "    <tr style=\"text-align: right;\">\n",
       "      <th></th>\n",
       "      <th>Names</th>\n",
       "      <th>Initials</th>\n",
       "      <th>SEM1</th>\n",
       "    </tr>\n",
       "  </thead>\n",
       "  <tbody>\n",
       "    <tr>\n",
       "      <th>4</th>\n",
       "      <td>Jeen</td>\n",
       "      <td>K</td>\n",
       "      <td>9.8</td>\n",
       "    </tr>\n",
       "    <tr>\n",
       "      <th>5</th>\n",
       "      <td>Raj</td>\n",
       "      <td>M</td>\n",
       "      <td>8.9</td>\n",
       "    </tr>\n",
       "    <tr>\n",
       "      <th>6</th>\n",
       "      <td>Hassan</td>\n",
       "      <td>V</td>\n",
       "      <td>9.9</td>\n",
       "    </tr>\n",
       "    <tr>\n",
       "      <th>7</th>\n",
       "      <td>Mari</td>\n",
       "      <td>N</td>\n",
       "      <td>7.7</td>\n",
       "    </tr>\n",
       "  </tbody>\n",
       "</table>\n",
       "</div>"
      ],
      "text/plain": [
       "    Names Initials  SEM1\n",
       "4    Jeen        K   9.8\n",
       "5     Raj        M   8.9\n",
       "6  Hassan        V   9.9\n",
       "7    Mari        N   7.7"
      ]
     },
     "execution_count": 83,
     "metadata": {},
     "output_type": "execute_result"
    }
   ],
   "source": [
    "demodf.iloc[4:8,0:3]"
   ]
  },
  {
   "cell_type": "code",
   "execution_count": null,
   "id": "d6419c89-55ca-43bb-97bb-eeebe43f97ac",
   "metadata": {},
   "outputs": [],
   "source": []
  }
 ],
 "metadata": {
  "kernelspec": {
   "display_name": "Python 3 (ipykernel)",
   "language": "python",
   "name": "python3"
  },
  "language_info": {
   "codemirror_mode": {
    "name": "ipython",
    "version": 3
   },
   "file_extension": ".py",
   "mimetype": "text/x-python",
   "name": "python",
   "nbconvert_exporter": "python",
   "pygments_lexer": "ipython3",
   "version": "3.11.7"
  }
 },
 "nbformat": 4,
 "nbformat_minor": 5
}
