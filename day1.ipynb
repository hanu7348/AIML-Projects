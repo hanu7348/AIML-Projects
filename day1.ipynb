{
 "cells": [
  {
   "cell_type": "raw",
   "id": "202a03bf-df92-4530-ad96-883d13907a58",
   "metadata": {},
   "source": [
    "Basics "
   ]
  },
  {
   "cell_type": "code",
   "execution_count": 8,
   "id": "4cc5854a-d5f2-4217-a3aa-24a0bcfb772d",
   "metadata": {},
   "outputs": [
    {
     "name": "stdout",
     "output_type": "stream",
     "text": [
      "22 25\n"
     ]
    }
   ],
   "source": [
    "a=22\n",
    "b=25\n",
    "print(a,b)"
   ]
  },
  {
   "cell_type": "code",
   "execution_count": 10,
   "id": "066f3639-0a81-452d-affe-60cf3a476d58",
   "metadata": {},
   "outputs": [
    {
     "name": "stdout",
     "output_type": "stream",
     "text": [
      "add: 47\n"
     ]
    }
   ],
   "source": [
    "print(\"add:\",a+b)"
   ]
  },
  {
   "cell_type": "code",
   "execution_count": 12,
   "id": "0135cafb-7700-4c21-b203-4c11b2920234",
   "metadata": {},
   "outputs": [
    {
     "name": "stdin",
     "output_type": "stream",
     "text": [
      "22 25\n"
     ]
    },
    {
     "data": {
      "text/plain": [
       "'25'"
      ]
     },
     "execution_count": 12,
     "metadata": {},
     "output_type": "execute_result"
    }
   ],
   "source": [
    "input(a)"
   ]
  },
  {
   "cell_type": "code",
   "execution_count": 15,
   "id": "15ad5042-1e0d-4a0d-9c54-855dfdf68085",
   "metadata": {},
   "outputs": [
    {
     "name": "stdin",
     "output_type": "stream",
     "text": [
      "Num1: 24\n",
      "Num2: 56\n"
     ]
    },
    {
     "name": "stdout",
     "output_type": "stream",
     "text": [
      "80\n"
     ]
    }
   ],
   "source": [
    "n1 = int(input(\"Num1:\"))\n",
    "n2 = int(input(\"Num2:\"))\n",
    "sum= n1+n2\n",
    "print(sum)"
   ]
  },
  {
   "cell_type": "code",
   "execution_count": 17,
   "id": "51a93a3c-ec4c-48dc-a808-c950789e7d1b",
   "metadata": {},
   "outputs": [
    {
     "name": "stdin",
     "output_type": "stream",
     "text": [
      "Num1: 23\n",
      "Num2: 34\n"
     ]
    },
    {
     "name": "stdout",
     "output_type": "stream",
     "text": [
      "0\n"
     ]
    }
   ],
   "source": [
    "n1 = int(input(\"Num1:\"))\n",
    "n2 = int(input(\"Num2:\"))\n",
    "sum= n1//n2\n",
    "print(sum)"
   ]
  },
  {
   "cell_type": "code",
   "execution_count": null,
   "id": "67b26b3a-2f45-4190-a41e-66d0d9a9be9d",
   "metadata": {},
   "outputs": [],
   "source": [
    "n1 = int(input(\"Num1:\"))\n",
    "n2 = int(input(\"Num2:\"))\n",
    "sum= n1/n2\n",
    "print(sum)"
   ]
  },
  {
   "cell_type": "code",
   "execution_count": 20,
   "id": "6911459a-3ce1-4c89-ac1c-f33db2066899",
   "metadata": {},
   "outputs": [
    {
     "name": "stdin",
     "output_type": "stream",
     "text": [
      "Enter a Password hanu\n",
      "Please enter your password:  hani\n"
     ]
    },
    {
     "name": "stdout",
     "output_type": "stream",
     "text": [
      "Incorrect password.\n"
     ]
    }
   ],
   "source": [
    "\n",
    "password = \"Hani@8973\"\n",
    "entered_password = input(\"Please enter your password: \")\n",
    "if entered_password == password:\n",
    "    print(\"Welcome!\")\n",
    "else:\n",
    "    print(\"Incorrect password.\")\n"
   ]
  },
  {
   "cell_type": "code",
   "execution_count": 21,
   "id": "ccb74141-4aef-4d06-9c07-31a38c621ddf",
   "metadata": {},
   "outputs": [
    {
     "name": "stdin",
     "output_type": "stream",
     "text": [
      "Please enter your password:  hani\n"
     ]
    },
    {
     "name": "stdout",
     "output_type": "stream",
     "text": [
      "Welcome!\n"
     ]
    }
   ],
   "source": [
    "\n",
    "entered_password = input(\"Please enter your password: \")\n",
    "if entered_password == entered_password:\n",
    "    print(\"Welcome!\")\n",
    "else:\n",
    "    print(\"Incorrect password.\")"
   ]
  },
  {
   "cell_type": "code",
   "execution_count": 24,
   "id": "774df1b1-f8ea-468d-9862-a06ed6d4f797",
   "metadata": {},
   "outputs": [
    {
     "name": "stdin",
     "output_type": "stream",
     "text": [
      "Please enter your password or PIN:  hani@8973\n"
     ]
    },
    {
     "name": "stdout",
     "output_type": "stream",
     "text": [
      "Welcome!\n"
     ]
    }
   ],
   "source": [
    "correct_password = \"hani@8973\"\n",
    "correct_pin = \"1234\"\n",
    "while True:\n",
    "    entered_value = input(\"Please enter your password or PIN: \")\n",
    "    if entered_value == correct_password or entered_value == correct_pin:\n",
    "        print(\"Welcome!\")\n",
    "        break\n",
    "    else:\n",
    "        print(\"Incorrect password or PIN. Please try again.\")\n"
   ]
  },
  {
   "cell_type": "code",
   "execution_count": 25,
   "id": "c5ff4841-d08a-44d6-8639-7f7360553959",
   "metadata": {},
   "outputs": [
    {
     "name": "stdin",
     "output_type": "stream",
     "text": [
      "Please enter your password:  hani@8973\n",
      "Please enter your PIN:  2345\n"
     ]
    },
    {
     "name": "stdout",
     "output_type": "stream",
     "text": [
      "Incorrect password or PIN. Please try again.\n"
     ]
    },
    {
     "name": "stdin",
     "output_type": "stream",
     "text": [
      "Please enter your password:  hani@8973\n",
      "Please enter your PIN:  1234\n"
     ]
    },
    {
     "name": "stdout",
     "output_type": "stream",
     "text": [
      "Welcome!\n"
     ]
    }
   ],
   "source": [
    "\n",
    "correct_password = \"hani@8973\"\n",
    "correct_pin = \"1234\"\n",
    "while True:\n",
    "    entered_password = input(\"Please enter your password: \")\n",
    "    entered_pin = input(\"Please enter your PIN: \")\n",
    "\n",
    "    if entered_password == correct_password and entered_pin == correct_pin:\n",
    "        print(\"Welcome!\")\n",
    "        break\n",
    "    else:\n",
    "        print(\"Incorrect password or PIN. Please try again.\")\n"
   ]
  },
  {
   "cell_type": "code",
   "execution_count": 26,
   "id": "08520154-944c-4a1e-9721-9ffc9fbfa5cc",
   "metadata": {},
   "outputs": [
    {
     "name": "stdout",
     "output_type": "stream",
     "text": [
      "hello\n"
     ]
    }
   ],
   "source": [
    "s= \"hello how are you?\"\n",
    "print(s[0:5])"
   ]
  },
  {
   "cell_type": "code",
   "execution_count": 29,
   "id": "b59269d9-9b1c-477d-917a-c255e0e99842",
   "metadata": {},
   "outputs": [
    {
     "name": "stdout",
     "output_type": "stream",
     "text": [
      " you\n"
     ]
    }
   ],
   "source": [
    "s= \"hello how are you?\"\n",
    "print(s[-5:-1])"
   ]
  },
  {
   "cell_type": "code",
   "execution_count": 31,
   "id": "68cf4b96-451d-4174-84db-3c19a9c44183",
   "metadata": {},
   "outputs": [
    {
     "name": "stdout",
     "output_type": "stream",
     "text": [
      " you\n"
     ]
    },
    {
     "data": {
      "text/plain": [
       "18"
      ]
     },
     "execution_count": 31,
     "metadata": {},
     "output_type": "execute_result"
    }
   ],
   "source": [
    "s= \"hello how are you?\"\n",
    "print(s[-5:-1])\n",
    "len(s)\n"
   ]
  },
  {
   "cell_type": "code",
   "execution_count": 35,
   "id": "3fdb6c83-8709-443a-9168-0e1e283b6bfd",
   "metadata": {},
   "outputs": [
    {
     "name": "stdout",
     "output_type": "stream",
     "text": [
      "Extracted substring: hello how are you\n",
      "h\n",
      "e\n",
      "l\n",
      "l\n",
      "o\n",
      " \n",
      "h\n",
      "o\n",
      "w\n",
      " \n",
      "a\n",
      "r\n",
      "e\n",
      " \n",
      "y\n",
      "o\n",
      "u\n"
     ]
    }
   ],
   "source": [
    "s = \"hello how are you?\"\n",
    "sindex = 0\n",
    "eindex = -1\n",
    "substring = s[sindex:eindex]\n",
    "print(\"Extracted substring:\", substring)\n",
    "for char in substring:\n",
    "    print(char)\n"
   ]
  },
  {
   "cell_type": "code",
   "execution_count": 36,
   "id": "b03ade64-b334-48cb-a055-917ff59d9eaa",
   "metadata": {},
   "outputs": [
    {
     "data": {
      "text/plain": [
       "[1, 2, 3, 4, 5, 6]"
      ]
     },
     "execution_count": 36,
     "metadata": {},
     "output_type": "execute_result"
    }
   ],
   "source": [
    "a = [1,2,3,4,5,6]\n",
    "list(a)"
   ]
  },
  {
   "cell_type": "code",
   "execution_count": 37,
   "id": "b70170da-98e7-47a9-9787-764724c8bc64",
   "metadata": {},
   "outputs": [
    {
     "name": "stdout",
     "output_type": "stream",
     "text": [
      "120\n"
     ]
    }
   ],
   "source": [
    "fact=1\n",
    "i=1\n",
    "while i<=5:\n",
    "    fact*=i\n",
    "    i=i+1\n",
    "print(fact)"
   ]
  },
  {
   "cell_type": "code",
   "execution_count": 39,
   "id": "ed12c776-e3e7-48fb-b196-3e5fe4cd887f",
   "metadata": {},
   "outputs": [
    {
     "name": "stdout",
     "output_type": "stream",
     "text": [
      "[9, 90, 'like', 90, 7, True, 'like']\n"
     ]
    }
   ],
   "source": [
    "list1 = [9,90,'like',90,7,True,'like']\n",
    "print(list1)"
   ]
  },
  {
   "cell_type": "code",
   "execution_count": 14,
   "id": "18814a3f-eff0-4439-9652-69bf59ffe310",
   "metadata": {},
   "outputs": [
    {
     "name": "stdout",
     "output_type": "stream",
     "text": [
      "[9, 90, 'name', 90, 7, True, 'like']\n"
     ]
    }
   ],
   "source": [
    "list1 = [9,90,'name',90,7,True,'like']\n",
    "print(list1)"
   ]
  },
  {
   "cell_type": "code",
   "execution_count": 17,
   "id": "47cbe8da-9622-4207-b9af-e2f3a0eef365",
   "metadata": {},
   "outputs": [],
   "source": [
    "list1.insert(4,'hanu')"
   ]
  },
  {
   "cell_type": "code",
   "execution_count": 18,
   "id": "380f2c81-8907-40b7-95b7-af8cf465ea2c",
   "metadata": {},
   "outputs": [
    {
     "name": "stdout",
     "output_type": "stream",
     "text": [
      "[9, 90, 'name', 90, 'hanu', 'hanu', 'hanu', 7, True, 'like']\n"
     ]
    }
   ],
   "source": [
    "print(list1)"
   ]
  },
  {
   "cell_type": "code",
   "execution_count": 20,
   "id": "213bbe4d-a519-46b9-895b-f7c9d6fccbba",
   "metadata": {},
   "outputs": [
    {
     "name": "stdout",
     "output_type": "stream",
     "text": [
      "[]\n"
     ]
    }
   ],
   "source": [
    "list1.clear()\n",
    "print(list1)"
   ]
  },
  {
   "cell_type": "code",
   "execution_count": 21,
   "id": "6122f16a-b16e-4239-856d-d418931a181d",
   "metadata": {},
   "outputs": [
    {
     "name": "stdout",
     "output_type": "stream",
     "text": [
      "[102, 100, 99, 34]\n"
     ]
    }
   ],
   "source": [
    "list5 = [99,100,102,34]\n",
    "list5.sort(reverse = True)\n",
    "print(list5)"
   ]
  },
  {
   "cell_type": "code",
   "execution_count": 23,
   "id": "8b0f1efb-82ae-44a8-8341-e6ea99037c6f",
   "metadata": {},
   "outputs": [
    {
     "data": {
      "text/plain": [
       "[99, 100, 102, 34]"
      ]
     },
     "execution_count": 23,
     "metadata": {},
     "output_type": "execute_result"
    }
   ],
   "source": [
    "list6 = [99,100,102,34]\n",
    "sorted(list6)\n",
    "list6"
   ]
  },
  {
   "cell_type": "code",
   "execution_count": 25,
   "id": "15c6ac28-fb99-41b3-b724-d10ea0d94f91",
   "metadata": {},
   "outputs": [],
   "source": [
    "list5.sort()"
   ]
  },
  {
   "cell_type": "code",
   "execution_count": 26,
   "id": "612e4ee2-de36-4f36-914b-f84252d9f365",
   "metadata": {},
   "outputs": [
    {
     "data": {
      "text/plain": [
       "[34, 99, 100, 102]"
      ]
     },
     "execution_count": 26,
     "metadata": {},
     "output_type": "execute_result"
    }
   ],
   "source": [
    "list5"
   ]
  },
  {
   "cell_type": "code",
   "execution_count": 27,
   "id": "04cdf615-0dea-4628-abfd-5d40e7988551",
   "metadata": {},
   "outputs": [
    {
     "data": {
      "text/plain": [
       "[1156, 9801, 10000, 10404]"
      ]
     },
     "execution_count": 27,
     "metadata": {},
     "output_type": "execute_result"
    }
   ],
   "source": [
    "listnew = [i*i for i in list5]\n",
    "listnew"
   ]
  },
  {
   "cell_type": "code",
   "execution_count": 1,
   "id": "7fde5e14-bb41-4eef-a9e4-01cb30cbf0a6",
   "metadata": {},
   "outputs": [
    {
     "data": {
      "text/plain": [
       "['A', 'B', 'B', 'A', 'A']"
      ]
     },
     "execution_count": 1,
     "metadata": {},
     "output_type": "execute_result"
    }
   ],
   "source": [
    "marks = [92,78,89,98,100]\n",
    "grades = []\n",
    "for i in marks:\n",
    "    if i>90:\n",
    "        grades.append(\"A\")\n",
    "    else:\n",
    "        grades.append(\"B\")\n",
    "grades"
   ]
  },
  {
   "cell_type": "code",
   "execution_count": null,
   "id": "928a5d5b-7407-48db-9e5f-5502b17b6eb8",
   "metadata": {},
   "outputs": [],
   "source": [
    "sal = [19000,78000,10000,56000,4500,12000]"
   ]
  },
  {
   "cell_type": "code",
   "execution_count": 2,
   "id": "38d320d2-7a28-413d-a9e3-5a44ea2eebf9",
   "metadata": {},
   "outputs": [
    {
     "name": "stdout",
     "output_type": "stream",
     "text": [
      "Net salaries after tax deduction: [18050.0, 70200.0, 9500.0, 50400.0, 4275.0, 11400.0]\n"
     ]
    }
   ],
   "source": [
    "sal = [19000, 78000, 10000, 56000, 4500, 12000]\n",
    "net_salaries = []\n",
    "\n",
    "for salary in sal:\n",
    "    if salary > 50000:\n",
    "        tax = 0.10  \n",
    "    else:\n",
    "        tax = 0.05  \n",
    "    \n",
    "    net_salary = salary * (1 - tax)  \n",
    "    net_salaries.append(net_salary)  \n",
    "\n",
    "print(\"Net salaries after tax deduction:\", net_salaries)\n"
   ]
  },
  {
   "cell_type": "code",
   "execution_count": 4,
   "id": "f6d41b2d-e014-4317-9a7f-4242d8bc3f88",
   "metadata": {},
   "outputs": [
    {
     "name": "stdout",
     "output_type": "stream",
     "text": [
      "179\n",
      "90\n",
      "35\n",
      "35\n",
      "190\n"
     ]
    }
   ],
   "source": [
    "list2 = [90,45,23,12,91]\n",
    "list4 = [89, 45,12,23,99]\n",
    "for i,j in zip(list2,list4):\n",
    "    print(i+j)"
   ]
  },
  {
   "cell_type": "code",
   "execution_count": 5,
   "id": "f0958847-824a-4316-876e-32ae185c6ef0",
   "metadata": {},
   "outputs": [
    {
     "data": {
      "text/plain": [
       "{1: 'joe', 2: 'Yashu', 3: 'Hanumanthu'}"
      ]
     },
     "execution_count": 5,
     "metadata": {},
     "output_type": "execute_result"
    }
   ],
   "source": [
    "dict1 = {1:\"joe\",2:\"Yashu\",3:\"Hanumanthu\"}\n",
    "dict1"
   ]
  },
  {
   "cell_type": "code",
   "execution_count": 12,
   "id": "604c7c87-f8ac-4bff-901c-8964045f2bfe",
   "metadata": {},
   "outputs": [],
   "source": [
    "dict2 = {'name':\"Yashuu\",'hobbies':['sleeping','eating','playing']}"
   ]
  },
  {
   "cell_type": "code",
   "execution_count": 13,
   "id": "9500c1b3-2514-4ee5-b6b9-f7cf93bb26e8",
   "metadata": {},
   "outputs": [
    {
     "name": "stdout",
     "output_type": "stream",
     "text": [
      "['sleeping', 'eating', 'playing']\n"
     ]
    }
   ],
   "source": [
    "print(dict2['hobbies'])"
   ]
  },
  {
   "cell_type": "code",
   "execution_count": 14,
   "id": "03093c77-d226-4c11-b056-059cbc270531",
   "metadata": {},
   "outputs": [
    {
     "data": {
      "text/plain": [
       "dict_keys(['name', 'hobbies'])"
      ]
     },
     "execution_count": 14,
     "metadata": {},
     "output_type": "execute_result"
    }
   ],
   "source": [
    "dict2.keys()"
   ]
  },
  {
   "cell_type": "code",
   "execution_count": 15,
   "id": "c91eff7f-9775-46e8-b03e-a7c81605256a",
   "metadata": {},
   "outputs": [
    {
     "data": {
      "text/plain": [
       "dict_values(['Yashuu', ['sleeping', 'eating', 'playing']])"
      ]
     },
     "execution_count": 15,
     "metadata": {},
     "output_type": "execute_result"
    }
   ],
   "source": [
    "dict2.values()"
   ]
  },
  {
   "cell_type": "code",
   "execution_count": 21,
   "id": "77d1a01d-225c-49c3-a904-0e8644e8a1bf",
   "metadata": {},
   "outputs": [
    {
     "name": "stdout",
     "output_type": "stream",
     "text": [
      "The hobby is: sleeping\n"
     ]
    }
   ],
   "source": [
    "dict2 = {'name': \"Yashuu\", 'hobbies': ['sleeping', 'eating', 'playing']}\n",
    "sleeping = dict2['hobbies'][0]\n",
    "print(\"The hobby is:\", sleeping)\n"
   ]
  },
  {
   "cell_type": "code",
   "execution_count": 2,
   "id": "5ef7c573-80c4-4e87-a30d-d67bbe7f490f",
   "metadata": {},
   "outputs": [
    {
     "name": "stdout",
     "output_type": "stream",
     "text": [
      "['K likes Maths', 'L likes Science', 'M likes Social', 'N likes English']\n"
     ]
    }
   ],
   "source": [
    "names = ['K', 'L', 'M', 'N']\n",
    "subj = ['Maths', 'Science', 'Social', 'English']\n",
    "\n",
    "result = []\n",
    "for name, subject in zip(names, subj):\n",
    "    result.append(f\"{name} likes {subject}\")\n",
    "print(result)\n"
   ]
  },
  {
   "cell_type": "code",
   "execution_count": 3,
   "id": "06529778-cf45-4797-a226-b104b1427bdb",
   "metadata": {},
   "outputs": [
    {
     "name": "stdout",
     "output_type": "stream",
     "text": [
      "['divisible by 2', 'divisible by 2', 'Not divisible by 2', 'Not divisible by 2', 'Not divisible by 2', 'Not divisible by 2']\n"
     ]
    }
   ],
   "source": [
    "numbers = [78, 990, 33, 25, 667, 891]\n",
    "result = ['divisible by 2' if num % 2 == 0 else 'Not divisible by 2' for num in numbers]\n",
    "print(result)\n"
   ]
  },
  {
   "cell_type": "code",
   "execution_count": 1,
   "id": "3e2b22ea-20ee-4204-bbc8-ee46e4022d8d",
   "metadata": {},
   "outputs": [
    {
     "name": "stdout",
     "output_type": "stream",
     "text": [
      "['A likes History', 'B likes Physics', 'C likes Chemistry', 'D likes Biology']\n"
     ]
    }
   ],
   "source": [
    "names = ['A', 'B', 'C', 'D']\n",
    "subjects = ['History', 'Physics', 'Chemistry', 'Biology']\n",
    "result = []\n",
    "for name, subject in zip(names, subjects):\n",
    "    result.append(f\"{name} likes {subject}\")\n",
    "print(result)\n"
   ]
  },
  {
   "cell_type": "code",
   "execution_count": 2,
   "id": "b440e99a-bdd5-4b16-a25a-ec21d2feb135",
   "metadata": {},
   "outputs": [
    {
     "name": "stdout",
     "output_type": "stream",
     "text": [
      "['Not divisible by 2', 'divisible by 2', 'divisible by 2', 'Not divisible by 2', 'Not divisible by 2', 'divisible by 2']\n"
     ]
    }
   ],
   "source": [
    "numbers = [45, 92, 18, 53, 101, 76]\n",
    "result = ['divisible by 2' if num % 2 == 0 else 'Not divisible by 2' for num in numbers]\n",
    "print(result)\n"
   ]
  },
  {
   "cell_type": "code",
   "execution_count": null,
   "id": "8c6e8a18-15c7-49af-94d1-f068e0c4a28a",
   "metadata": {},
   "outputs": [],
   "source": []
  }
 ],
 "metadata": {
  "kernelspec": {
   "display_name": "Python 3 (ipykernel)",
   "language": "python",
   "name": "python3"
  },
  "language_info": {
   "codemirror_mode": {
    "name": "ipython",
    "version": 3
   },
   "file_extension": ".py",
   "mimetype": "text/x-python",
   "name": "python",
   "nbconvert_exporter": "python",
   "pygments_lexer": "ipython3",
   "version": "3.11.7"
  }
 },
 "nbformat": 4,
 "nbformat_minor": 5
}
